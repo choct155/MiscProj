{
 "metadata": {
  "name": ""
 },
 "nbformat": 3,
 "nbformat_minor": 0,
 "worksheets": [
  {
   "cells": [
    {
     "cell_type": "heading",
     "level": 1,
     "metadata": {},
     "source": [
      "[The Patient Protection and Affordable Care Act](http://en.wikipedia.org/wiki/Patient_Protection_and_Affordable_Care_Act)"
     ]
    },
    {
     "cell_type": "markdown",
     "metadata": {},
     "source": [
      "As of December 2013, it is abundantly clear that the Affordable Care Act (ACA) is a remarkably contentious issue from a political standpoint.  As with any political controversy, the debate surrounding this effort at health care reform is heavily distorted by misleading information, which leads many to debate fictitious, irrelevant, or the less significant aspects of the law.  To quote the venerable President Fowler from [Sum of All Fears](http://www.imdb.com/title/tt0164184/?ref_=nv_sr_1) (yes, my family and I just watched this movie over the Christmas break), there is \"too much bullshit, and not enough facts.\"  \n",
      "\n",
      "What follows seeks to provide a modest primer on the ACA (a.k.a. Obamacare), fortified by data.  Inevitably, it will be colored by the materials to which I have been exposed, but I am open to addendum or amendment should the need arise.  In particular, the following components will be addressed:\n",
      "\n",
      "+ What insurance is, and is not\n",
      "+ The case for diverging from the status quo\n",
      "+ The rationale behind, and intellectual foundations of the ACA\n",
      "+ Legitimate concerns about the ACA\n",
      "+ The assessment of ACA performance moving forward\n",
      "\n",
      "My motivation for writing this script admittedly extends beyond just collecting these thoughts in one place.  Given the need to integrate spatially-referenced categorical and interval data, this [Notebook](http://ipython.org/ipython-doc/dev/interactive/notebook.html) provides an opportunity to work with some very exciting libraries in both Python and R.  \n",
      "\n",
      "+ [Geopandas](http://geopandas.org/docs.html) is a Python library that integrates directly with the eminently popular [pandas](http://pandas.pydata.org/).  It extends pandas by enabling the processing and display of visual information.\n",
      "+ [Vincent](http://vincent.readthedocs.org/en/latest/) is a Python library that enables the construction of [d3](http://d3js.org/) visualizations.  The current set of available constructs is limited, but appealing.\n",
      "+ [rCharts](http://rcharts.io/gallery/) is an R library that also implements d3 visualization.  It is slightly more complicated to implement than Vincent (particularly since I prefer to perform data munging tasks in Python), but it carries an interactive component.\n",
      "\n",
      "This Notebook is intended to serve those who care only about the content and those who want to see the nuts an bolts of working with the data.  Consequently, commentary about coding choices and approaches will be entirely contained within the code cells.  Doing so permits the creation of a document that hides all coding elements."
     ]
    },
    {
     "cell_type": "code",
     "collapsed": false,
     "input": [
      "'''The first step is loading in the toolset environment.  We will also set some globale parameters'''\n",
      "\n",
      "#Load relevant libraries\n",
      "import numpy as np\n",
      "import pandas as pd\n",
      "from pandas import Series, DataFrame\n",
      "import geopandas as gp\n",
      "import vincent as vt\n",
      "from vincent import *\n",
      "import pandas.io.data as web\n",
      "from IPython.display import HTML\n",
      "\n",
      "#Set print width\n",
      "pd.set_option('line_width',100)"
     ],
     "language": "python",
     "metadata": {},
     "outputs": [],
     "prompt_number": 102
    },
    {
     "cell_type": "heading",
     "level": 3,
     "metadata": {},
     "source": [
      "Information Sources & Data"
     ]
    },
    {
     "cell_type": "markdown",
     "metadata": {},
     "source": [
      "This primer draws upon four primary sources that the author feels capture a great deal of useful information about the subject.  This set of sources is *not* intended to be exhaustive (remember, this is a limited exploration of the subject), nor will it capture all aspects of this debate.  This set is, however, achievably digested in a relatively short period of time.  Consequently, it is easier for one to check on the elements discussed in this Notebook.  Furthermore, the last two papers are reflect very recent thinking on the subject, over three and a half years after the passage of the ACA.  The sources are as follows:\n",
      "\n",
      "1. [*Assuring Affordable Health Care for All Americans*  (Butler, 1989)](http://thf_media.s3.amazonaws.com/1989/pdf/hl218.pdf)\n",
      "2. [*The Impacts of the Affordable Care Act: How Reasonable are the Projections?*  (Gruber, 2011)](https://www.google.com/url?sa=t&rct=j&q=&esrc=s&source=web&cd=2&cad=rja&ved=0CEwQFjAB&url=http%3A%2F%2Feconomics.mit.edu%2Ffiles%2F6829&ei=ujC8UsagBITfsAS2uoKwAg&usg=AFQjCNFhkTvF6wHDNSqz7UVW_NP26yzcqw&sig2=zwxdFUEgh9KV5jU9A6fvwg&bvm=bv.58187178,d.cWc)\n",
      "3. [*How Obamacare Will Re-Shape the Practice of Medicine*  (Gottlieb, 2013)](http://indstate.edu/business/nfi/leadership/briefs/2013-PB-06_Gottlieb.pdf)\n",
      "4. [*The Affordable Care Act: A User's Guide to Implementation*  (Burke & Kamarck, 2013)](https://www.google.com/url?sa=t&rct=j&q=&esrc=s&source=web&cd=2&cad=rja&ved=0CDYQFjAB&url=http%3A%2F%2Fwww.brookings.edu%2F~%2Fmedia%2Fresearch%2Ffiles%2Fpapers%2F2013%2F10%2F15-affordable-care-act-user-guide-burke-kamarck%2Fkamarckburkeaca-user-guide101513.pdf&ei=izG8UsWCK9HesATL1YDIAg&usg=AFQjCNETRMQPj8T-LHyKPeD3gV3Mru2tXA&sig2=4fFZKqQX6GzcSS73VQupog&bvm=bv.58187178,d.cWc)\n",
      "\n",
      "The data displayed in figures below will be taken largely from three sources:\n",
      "\n",
      "1. The tables compiled in the appendix of (Burke & Kamarck)\n",
      "2. [Medicare Provider Charge](http://www.cms.gov/Research-Statistics-Data-and-Systems/Statistics-Trends-and-Reports/Medicare-Provider-Charge-Data/) data released by [Centers for Medicare & Medicaid Services](http://www.cms.gov/)\n",
      "3. The [FRED](http://research.stlouisfed.org/fred2/) database maintained by the St. Louis FED"
     ]
    },
    {
     "cell_type": "heading",
     "level": 2,
     "metadata": {},
     "source": [
      "The Role of [Insurance](http://en.wikipedia.org/wiki/Insurance)"
     ]
    },
    {
     "cell_type": "markdown",
     "metadata": {},
     "source": [
      "To understand the ACA, one must have a basic idea of the insurance concept.  Insurance is a means of transferring risk from beneficiaries (e.g. individuals like you or I) to insurance providers (e.g. [Blue Cross Blue Shield](https://member.carefirst.com/individuals/home.page)).  In a very basic sense, a pure, profitless insurance transaction relies upon the concept of [expected value](http://en.wikipedia.org/wiki/Expected_value) to match the value of a stream of \"small\" recurrent payments to the probabalistic cost of a \"big\" payment.\n",
      "\n",
      "$$\\sum^t s_t = E(B) = \\int_{-\\infty}^{\\infty}b f(b) db = \\sum^i p_i b_i$$\n",
      "\n",
      "where $s_t$ = small payment at time $t$ and $b_i$ = big payment associated with event $i$.\n",
      "\n",
      "Let's unpack this a bit to see what's happening.  The small payment term, $\\sum^t s_t$, represents the periodic payments that an individual would make to an insurance provider.  They are called insurance premia.  The payment periods are plan-specific and may be monthly, quarterly, etc.\n",
      "\n",
      "The expected loss term, $E(B)$, is the expectation of costs due to big events (e.g. heart attack) that occur during the insurance term.  The last two terms, $\\int_{-\\infty}^{\\infty}b f(b) db$  &  $\\sum^i p_i b_i$ are the continuous and discrete methods of calculating the expected loss term.  Both effectively say that the expected loss associated with a big event ($E(B)$) is equal to the cost of that event ($b$) multiplied by the probability of it's occurrence ($p$).  The summation just makes sure we include all relevant big events.\n",
      "\n",
      "So, for example, if a heart attack cost \\$10,000, and the probability of an individual having one is 10% over the insurance term, the expected value is \\$1,000.  This expected value is the liability incurred by an insurance provider if they take on this hypothetical individual.  To be made whole, the provider must receive a stream of insurance premium payments from the individual that sum to \\$1,000 over the insurance term.\n",
      "\n",
      "Everyone has some exposure to the insurance concept, so why bother to break it down?  The reason is to highlight what it is not.  Insurance is purely a risk transferring operation that attempts to mitigate the cash flow difficulties associated with catastrophic events.  Individuals can accommodate small premium payments over time, but if large events come along that exceed the individual's income in a given time period (and available savings), individuals must either incur debt or go without.  (Debt can be an efficient way to finance investments, but it becomes problematic when the volume of debt dwarfs the income needed to service it.)\n",
      "\n",
      "Insurance is related to, but not the same thing as access to care.  Access to care means that an individual can actually acquire and consume the health services that a required at any given time.  By contracting with an insurance provider, an individual increases the set of available health services *that can be financed* at any given time.  Whether or not the health services are available is a separate concern, and this distinction is critical to the ultimate performance of the ACA."
     ]
    },
    {
     "cell_type": "heading",
     "level": 2,
     "metadata": {},
     "source": [
      "Health Care in the US"
     ]
    },
    {
     "cell_type": "markdown",
     "metadata": {},
     "source": [
      "Perhaps the most well-known fact about health care in the US is that we spend a lot on it, and that amount grows each year.  Consider the growth in health care related personal expenditures.  Note that this captures only a portion of total health activity in the country."
     ]
    },
    {
     "cell_type": "code",
     "collapsed": false,
     "input": [
      "'''Displaying vincent graphics within the Notebook requires that we first initialize this component of the package'''\n",
      "vt.core.initialize_notebook()"
     ],
     "language": "python",
     "metadata": {},
     "outputs": [
      {
       "javascript": [
        "$.getScript(\"http://d3js.org/d3.v3.min.js\", function() {\n",
        "        $.getScript(\"http://trifacta.github.com/vega/vega.js\", function() {\n",
        "            $([IPython.events]).trigger(\"vega_loaded.vincent\");\n",
        "        })\n",
        "    });"
       ],
       "metadata": {},
       "output_type": "display_data",
       "text": [
        "<IPython.core.display.Javascript at 0x4ad8ad0>"
       ]
      }
     ],
     "prompt_number": 5
    },
    {
     "cell_type": "code",
     "collapsed": false,
     "input": [
      "'''To begin, we will pull just the personal consumption expenditures related to health, and plot them with vincent.  \n",
      "Note that after we create the plot object, we will need to switch the data type of the x-axis to ordinal with the scales\n",
      "method.  This is because we are dealing with temporal information, which vincent does not yet appear to accommodate\n",
      "seamlessly when working with pandas DataFrames (DFs)'''\n",
      "\n",
      "#Capture health expenditures\n",
      "hth_exp=web.get_data_fred('DHLCRC1Q027SBEA','1/1/1970','12/1/2013')\n",
      "\n",
      "#Create area object\n",
      "hth_exp_area=vt.Area(hth_exp)\n",
      "\n",
      "#Create axis labels\n",
      "hth_exp_area.axis_titles(x='Quarter',y='Health Expenditures ($B)')\n",
      "\n",
      "#Set number of tick marks\n",
      "hth_exp_area.axes[0].ticks=10\n",
      "\n",
      "hth_exp_area.display()"
     ],
     "language": "python",
     "metadata": {},
     "outputs": [
      {
       "html": [
        "<div id=\"vis61136\"></div>"
       ],
       "metadata": {},
       "output_type": "display_data",
       "text": [
        "<IPython.core.display.HTML at 0x4b5cf10>"
       ]
      },
      {
       "javascript": [
        "\n",
        "( function() {\n",
        "  var _do_plot = function() {\n",
        "    if ( typeof vg == 'undefined' ) {\n",
        "      $([IPython.events]).on(\"vega_loaded.vincent\", _do_plot);\n",
        "      return;\n",
        "    }\n",
        "    vg.parse.spec({\"axes\": [{\"scale\": \"x\", \"ticks\": 10, \"title\": \"Quarter\", \"type\": \"x\"}, {\"scale\": \"y\", \"title\": \"Health Expenditures ($B)\", \"type\": \"y\"}], \"data\": [{\"name\": \"table\", \"values\": [{\"col\": \"DHLCRC1Q027SBEA\", \"idx\": 18000000, \"val\": 45.5}, {\"col\": \"DHLCRC1Q027SBEA\", \"idx\": 7794000000, \"val\": 46.7}, {\"col\": \"DHLCRC1Q027SBEA\", \"idx\": 15652800000, \"val\": 48.3}, {\"col\": \"DHLCRC1Q027SBEA\", \"idx\": 23601600000, \"val\": 50.3}, {\"col\": \"DHLCRC1Q027SBEA\", \"idx\": 31554000000, \"val\": 51.3}, {\"col\": \"DHLCRC1Q027SBEA\", \"idx\": 39330000000, \"val\": 52.9}, {\"col\": \"DHLCRC1Q027SBEA\", \"idx\": 47188800000, \"val\": 54.6}, {\"col\": \"DHLCRC1Q027SBEA\", \"idx\": 55137600000, \"val\": 56.1}, {\"col\": \"DHLCRC1Q027SBEA\", \"idx\": 63090000000, \"val\": 57.6}, {\"col\": \"DHLCRC1Q027SBEA\", \"idx\": 70952400000, \"val\": 59.0}, {\"col\": \"DHLCRC1Q027SBEA\", \"idx\": 78811200000, \"val\": 60.6}, {\"col\": \"DHLCRC1Q027SBEA\", \"idx\": 86760000000, \"val\": 62.1}, {\"col\": \"DHLCRC1Q027SBEA\", \"idx\": 94712400000, \"val\": 64.4}, {\"col\": \"DHLCRC1Q027SBEA\", \"idx\": 102488400000, \"val\": 66.5}, {\"col\": \"DHLCRC1Q027SBEA\", \"idx\": 110347200000, \"val\": 68.1}, {\"col\": \"DHLCRC1Q027SBEA\", \"idx\": 118296000000, \"val\": 69.7}, {\"col\": \"DHLCRC1Q027SBEA\", \"idx\": 126248400000, \"val\": 71.9}, {\"col\": \"DHLCRC1Q027SBEA\", \"idx\": 134020800000, \"val\": 74.6}, {\"col\": \"DHLCRC1Q027SBEA\", \"idx\": 141883200000, \"val\": 77.4}, {\"col\": \"DHLCRC1Q027SBEA\", \"idx\": 149832000000, \"val\": 80.4}, {\"col\": \"DHLCRC1Q027SBEA\", \"idx\": 157784400000, \"val\": 84.5}, {\"col\": \"DHLCRC1Q027SBEA\", \"idx\": 165556800000, \"val\": 87.7}, {\"col\": \"DHLCRC1Q027SBEA\", \"idx\": 173419200000, \"val\": 89.5}, {\"col\": \"DHLCRC1Q027SBEA\", \"idx\": 181368000000, \"val\": 94.2}, {\"col\": \"DHLCRC1Q027SBEA\", \"idx\": 189320400000, \"val\": 97.3}, {\"col\": \"DHLCRC1Q027SBEA\", \"idx\": 197182800000, \"val\": 100.3}, {\"col\": \"DHLCRC1Q027SBEA\", \"idx\": 205041600000, \"val\": 103.4}, {\"col\": \"DHLCRC1Q027SBEA\", \"idx\": 212990400000, \"val\": 106.4}, {\"col\": \"DHLCRC1Q027SBEA\", \"idx\": 220942800000, \"val\": 109.7}, {\"col\": \"DHLCRC1Q027SBEA\", \"idx\": 228718800000, \"val\": 114.8}, {\"col\": \"DHLCRC1Q027SBEA\", \"idx\": 236577600000, \"val\": 118.0}, {\"col\": \"DHLCRC1Q027SBEA\", \"idx\": 244526400000, \"val\": 120.3}, {\"col\": \"DHLCRC1Q027SBEA\", \"idx\": 252478800000, \"val\": 125.2}, {\"col\": \"DHLCRC1Q027SBEA\", \"idx\": 260254800000, \"val\": 129.5}, {\"col\": \"DHLCRC1Q027SBEA\", \"idx\": 268113600000, \"val\": 132.8}, {\"col\": \"DHLCRC1Q027SBEA\", \"idx\": 276062400000, \"val\": 137.2}, {\"col\": \"DHLCRC1Q027SBEA\", \"idx\": 284014800000, \"val\": 141.7}, {\"col\": \"DHLCRC1Q027SBEA\", \"idx\": 291790800000, \"val\": 146.1}, {\"col\": \"DHLCRC1Q027SBEA\", \"idx\": 299649600000, \"val\": 151.0}, {\"col\": \"DHLCRC1Q027SBEA\", \"idx\": 307598400000, \"val\": 156.6}, {\"col\": \"DHLCRC1Q027SBEA\", \"idx\": 315550800000, \"val\": 162.4}, {\"col\": \"DHLCRC1Q027SBEA\", \"idx\": 323413200000, \"val\": 165.7}, {\"col\": \"DHLCRC1Q027SBEA\", \"idx\": 331272000000, \"val\": 174.7}, {\"col\": \"DHLCRC1Q027SBEA\", \"idx\": 339220800000, \"val\": 183.8}, {\"col\": \"DHLCRC1Q027SBEA\", \"idx\": 347173200000, \"val\": 191.4}, {\"col\": \"DHLCRC1Q027SBEA\", \"idx\": 354949200000, \"val\": 199.0}, {\"col\": \"DHLCRC1Q027SBEA\", \"idx\": 362808000000, \"val\": 206.2}, {\"col\": \"DHLCRC1Q027SBEA\", \"idx\": 370756800000, \"val\": 211.0}, {\"col\": \"DHLCRC1Q027SBEA\", \"idx\": 378709200000, \"val\": 215.4}, {\"col\": \"DHLCRC1Q027SBEA\", \"idx\": 386485200000, \"val\": 221.1}, {\"col\": \"DHLCRC1Q027SBEA\", \"idx\": 394344000000, \"val\": 228.3}, {\"col\": \"DHLCRC1Q027SBEA\", \"idx\": 402292800000, \"val\": 236.0}, {\"col\": \"DHLCRC1Q027SBEA\", \"idx\": 410245200000, \"val\": 243.6}, {\"col\": \"DHLCRC1Q027SBEA\", \"idx\": 418021200000, \"val\": 250.2}, {\"col\": \"DHLCRC1Q027SBEA\", \"idx\": 425880000000, \"val\": 256.2}, {\"col\": \"DHLCRC1Q027SBEA\", \"idx\": 433828800000, \"val\": 262.5}, {\"col\": \"DHLCRC1Q027SBEA\", \"idx\": 441781200000, \"val\": 269.2}, {\"col\": \"DHLCRC1Q027SBEA\", \"idx\": 449643600000, \"val\": 273.6}, {\"col\": \"DHLCRC1Q027SBEA\", \"idx\": 457502400000, \"val\": 278.7}, {\"col\": \"DHLCRC1Q027SBEA\", \"idx\": 465451200000, \"val\": 284.4}, {\"col\": \"DHLCRC1Q027SBEA\", \"idx\": 473403600000, \"val\": 291.0}, {\"col\": \"DHLCRC1Q027SBEA\", \"idx\": 481179600000, \"val\": 297.7}, {\"col\": \"DHLCRC1Q027SBEA\", \"idx\": 489038400000, \"val\": 306.1}, {\"col\": \"DHLCRC1Q027SBEA\", \"idx\": 496987200000, \"val\": 314.0}, {\"col\": \"DHLCRC1Q027SBEA\", \"idx\": 504939600000, \"val\": 320.6}, {\"col\": \"DHLCRC1Q027SBEA\", \"idx\": 512715600000, \"val\": 325.8}, {\"col\": \"DHLCRC1Q027SBEA\", \"idx\": 520574400000, \"val\": 332.6}, {\"col\": \"DHLCRC1Q027SBEA\", \"idx\": 528523200000, \"val\": 341.6}, {\"col\": \"DHLCRC1Q027SBEA\", \"idx\": 536475600000, \"val\": 350.6}, {\"col\": \"DHLCRC1Q027SBEA\", \"idx\": 544251600000, \"val\": 361.0}, {\"col\": \"DHLCRC1Q027SBEA\", \"idx\": 552110400000, \"val\": 371.9}, {\"col\": \"DHLCRC1Q027SBEA\", \"idx\": 560059200000, \"val\": 380.5}, {\"col\": \"DHLCRC1Q027SBEA\", \"idx\": 568011600000, \"val\": 392.7}, {\"col\": \"DHLCRC1Q027SBEA\", \"idx\": 575874000000, \"val\": 404.4}, {\"col\": \"DHLCRC1Q027SBEA\", \"idx\": 583732800000, \"val\": 416.7}, {\"col\": \"DHLCRC1Q027SBEA\", \"idx\": 591681600000, \"val\": 426.4}, {\"col\": \"DHLCRC1Q027SBEA\", \"idx\": 599634000000, \"val\": 437.1}, {\"col\": \"DHLCRC1Q027SBEA\", \"idx\": 607410000000, \"val\": 444.8}, {\"col\": \"DHLCRC1Q027SBEA\", \"idx\": 615268800000, \"val\": 454.5}, {\"col\": \"DHLCRC1Q027SBEA\", \"idx\": 623217600000, \"val\": 468.4}, {\"col\": \"DHLCRC1Q027SBEA\", \"idx\": 631170000000, \"val\": 483.1}, {\"col\": \"DHLCRC1Q027SBEA\", \"idx\": 638946000000, \"val\": 499.4}, {\"col\": \"DHLCRC1Q027SBEA\", \"idx\": 646804800000, \"val\": 515.2}, {\"col\": \"DHLCRC1Q027SBEA\", \"idx\": 654753600000, \"val\": 527.1}, {\"col\": \"DHLCRC1Q027SBEA\", \"idx\": 662706000000, \"val\": 536.3}, {\"col\": \"DHLCRC1Q027SBEA\", \"idx\": 670482000000, \"val\": 548.1}, {\"col\": \"DHLCRC1Q027SBEA\", \"idx\": 678340800000, \"val\": 561.3}, {\"col\": \"DHLCRC1Q027SBEA\", \"idx\": 686289600000, \"val\": 577.3}, {\"col\": \"DHLCRC1Q027SBEA\", \"idx\": 694242000000, \"val\": 593.1}, {\"col\": \"DHLCRC1Q027SBEA\", \"idx\": 702104400000, \"val\": 607.8}, {\"col\": \"DHLCRC1Q027SBEA\", \"idx\": 709963200000, \"val\": 620.5}, {\"col\": \"DHLCRC1Q027SBEA\", \"idx\": 717912000000, \"val\": 629.8}, {\"col\": \"DHLCRC1Q027SBEA\", \"idx\": 725864400000, \"val\": 638.8}, {\"col\": \"DHLCRC1Q027SBEA\", \"idx\": 733640400000, \"val\": 645.0}, {\"col\": \"DHLCRC1Q027SBEA\", \"idx\": 741499200000, \"val\": 652.8}, {\"col\": \"DHLCRC1Q027SBEA\", \"idx\": 749448000000, \"val\": 658.7}, {\"col\": \"DHLCRC1Q027SBEA\", \"idx\": 757400400000, \"val\": 667.1}, {\"col\": \"DHLCRC1Q027SBEA\", \"idx\": 765176400000, \"val\": 675.5}, {\"col\": \"DHLCRC1Q027SBEA\", \"idx\": 773035200000, \"val\": 684.7}, {\"col\": \"DHLCRC1Q027SBEA\", \"idx\": 780984000000, \"val\": 694.6}, {\"col\": \"DHLCRC1Q027SBEA\", \"idx\": 788936400000, \"val\": 707.8}, {\"col\": \"DHLCRC1Q027SBEA\", \"idx\": 796712400000, \"val\": 715.6}, {\"col\": \"DHLCRC1Q027SBEA\", \"idx\": 804571200000, \"val\": 723.6}, {\"col\": \"DHLCRC1Q027SBEA\", \"idx\": 812520000000, \"val\": 732.6}, {\"col\": \"DHLCRC1Q027SBEA\", \"idx\": 820472400000, \"val\": 736.3}, {\"col\": \"DHLCRC1Q027SBEA\", \"idx\": 828334800000, \"val\": 748.0}, {\"col\": \"DHLCRC1Q027SBEA\", \"idx\": 836193600000, \"val\": 754.8}, {\"col\": \"DHLCRC1Q027SBEA\", \"idx\": 844142400000, \"val\": 769.1}, {\"col\": \"DHLCRC1Q027SBEA\", \"idx\": 852094800000, \"val\": 776.3}, {\"col\": \"DHLCRC1Q027SBEA\", \"idx\": 859870800000, \"val\": 785.4}, {\"col\": \"DHLCRC1Q027SBEA\", \"idx\": 867729600000, \"val\": 796.5}, {\"col\": \"DHLCRC1Q027SBEA\", \"idx\": 875678400000, \"val\": 805.6}, {\"col\": \"DHLCRC1Q027SBEA\", \"idx\": 883630800000, \"val\": 820.2}, {\"col\": \"DHLCRC1Q027SBEA\", \"idx\": 891406800000, \"val\": 829.3}, {\"col\": \"DHLCRC1Q027SBEA\", \"idx\": 899265600000, \"val\": 836.7}, {\"col\": \"DHLCRC1Q027SBEA\", \"idx\": 907214400000, \"val\": 842.0}, {\"col\": \"DHLCRC1Q027SBEA\", \"idx\": 915166800000, \"val\": 848.9}, {\"col\": \"DHLCRC1Q027SBEA\", \"idx\": 922942800000, \"val\": 856.1}, {\"col\": \"DHLCRC1Q027SBEA\", \"idx\": 930801600000, \"val\": 867.8}, {\"col\": \"DHLCRC1Q027SBEA\", \"idx\": 938750400000, \"val\": 881.5}, {\"col\": \"DHLCRC1Q027SBEA\", \"idx\": 946702800000, \"val\": 893.8}, {\"col\": \"DHLCRC1Q027SBEA\", \"idx\": 954565200000, \"val\": 910.0}, {\"col\": \"DHLCRC1Q027SBEA\", \"idx\": 962424000000, \"val\": 926.7}, {\"col\": \"DHLCRC1Q027SBEA\", \"idx\": 970372800000, \"val\": 943.2}, {\"col\": \"DHLCRC1Q027SBEA\", \"idx\": 978325200000, \"val\": 966.2}, {\"col\": \"DHLCRC1Q027SBEA\", \"idx\": 986101200000, \"val\": 985.0}, {\"col\": \"DHLCRC1Q027SBEA\", \"idx\": 993960000000, \"val\": 1006.1}, {\"col\": \"DHLCRC1Q027SBEA\", \"idx\": 1001908800000, \"val\": 1028.9}, {\"col\": \"DHLCRC1Q027SBEA\", \"idx\": 1009861200000, \"val\": 1052.4}, {\"col\": \"DHLCRC1Q027SBEA\", \"idx\": 1017637200000, \"val\": 1074.9}, {\"col\": \"DHLCRC1Q027SBEA\", \"idx\": 1025496000000, \"val\": 1094.2}, {\"col\": \"DHLCRC1Q027SBEA\", \"idx\": 1033444800000, \"val\": 1110.0}, {\"col\": \"DHLCRC1Q027SBEA\", \"idx\": 1041397200000, \"val\": 1126.2}, {\"col\": \"DHLCRC1Q027SBEA\", \"idx\": 1049173200000, \"val\": 1145.0}, {\"col\": \"DHLCRC1Q027SBEA\", \"idx\": 1057032000000, \"val\": 1163.9}, {\"col\": \"DHLCRC1Q027SBEA\", \"idx\": 1064980800000, \"val\": 1183.5}, {\"col\": \"DHLCRC1Q027SBEA\", \"idx\": 1072933200000, \"val\": 1204.4}, {\"col\": \"DHLCRC1Q027SBEA\", \"idx\": 1080795600000, \"val\": 1228.3}, {\"col\": \"DHLCRC1Q027SBEA\", \"idx\": 1088654400000, \"val\": 1253.6}, {\"col\": \"DHLCRC1Q027SBEA\", \"idx\": 1096603200000, \"val\": 1274.1}, {\"col\": \"DHLCRC1Q027SBEA\", \"idx\": 1104555600000, \"val\": 1292.9}, {\"col\": \"DHLCRC1Q027SBEA\", \"idx\": 1112331600000, \"val\": 1310.5}, {\"col\": \"DHLCRC1Q027SBEA\", \"idx\": 1120190400000, \"val\": 1335.6}, {\"col\": \"DHLCRC1Q027SBEA\", \"idx\": 1128139200000, \"val\": 1350.1}, {\"col\": \"DHLCRC1Q027SBEA\", \"idx\": 1136091600000, \"val\": 1364.7}, {\"col\": \"DHLCRC1Q027SBEA\", \"idx\": 1143867600000, \"val\": 1383.7}, {\"col\": \"DHLCRC1Q027SBEA\", \"idx\": 1151726400000, \"val\": 1403.9}, {\"col\": \"DHLCRC1Q027SBEA\", \"idx\": 1159675200000, \"val\": 1424.5}, {\"col\": \"DHLCRC1Q027SBEA\", \"idx\": 1167627600000, \"val\": 1453.4}, {\"col\": \"DHLCRC1Q027SBEA\", \"idx\": 1175400000000, \"val\": 1468.2}, {\"col\": \"DHLCRC1Q027SBEA\", \"idx\": 1183262400000, \"val\": 1491.9}, {\"col\": \"DHLCRC1Q027SBEA\", \"idx\": 1191211200000, \"val\": 1513.6}, {\"col\": \"DHLCRC1Q027SBEA\", \"idx\": 1199163600000, \"val\": 1537.7}, {\"col\": \"DHLCRC1Q027SBEA\", \"idx\": 1207022400000, \"val\": 1549.5}, {\"col\": \"DHLCRC1Q027SBEA\", \"idx\": 1214884800000, \"val\": 1562.9}, {\"col\": \"DHLCRC1Q027SBEA\", \"idx\": 1222833600000, \"val\": 1575.9}, {\"col\": \"DHLCRC1Q027SBEA\", \"idx\": 1230786000000, \"val\": 1599.1}, {\"col\": \"DHLCRC1Q027SBEA\", \"idx\": 1238558400000, \"val\": 1622.0}, {\"col\": \"DHLCRC1Q027SBEA\", \"idx\": 1246420800000, \"val\": 1639.4}, {\"col\": \"DHLCRC1Q027SBEA\", \"idx\": 1254369600000, \"val\": 1649.0}, {\"col\": \"DHLCRC1Q027SBEA\", \"idx\": 1262322000000, \"val\": 1654.5}, {\"col\": \"DHLCRC1Q027SBEA\", \"idx\": 1270094400000, \"val\": 1678.8}, {\"col\": \"DHLCRC1Q027SBEA\", \"idx\": 1277956800000, \"val\": 1703.1}, {\"col\": \"DHLCRC1Q027SBEA\", \"idx\": 1285905600000, \"val\": 1726.4}, {\"col\": \"DHLCRC1Q027SBEA\", \"idx\": 1293858000000, \"val\": 1742.0}, {\"col\": \"DHLCRC1Q027SBEA\", \"idx\": 1301630400000, \"val\": 1763.9}, {\"col\": \"DHLCRC1Q027SBEA\", \"idx\": 1309492800000, \"val\": 1768.3}, {\"col\": \"DHLCRC1Q027SBEA\", \"idx\": 1317441600000, \"val\": 1796.9}, {\"col\": \"DHLCRC1Q027SBEA\", \"idx\": 1325394000000, \"val\": 1826.2}, {\"col\": \"DHLCRC1Q027SBEA\", \"idx\": 1333252800000, \"val\": 1835.9}, {\"col\": \"DHLCRC1Q027SBEA\", \"idx\": 1341115200000, \"val\": 1855.9}, {\"col\": \"DHLCRC1Q027SBEA\", \"idx\": 1349064000000, \"val\": 1872.5}, {\"col\": \"DHLCRC1Q027SBEA\", \"idx\": 1357016400000, \"val\": 1889.2}, {\"col\": \"DHLCRC1Q027SBEA\", \"idx\": 1364788800000, \"val\": 1902.9}, {\"col\": \"DHLCRC1Q027SBEA\", \"idx\": 1372651200000, \"val\": 1923.3}]}], \"height\": 500, \"legends\": [], \"marks\": [{\"from\": {\"data\": \"table\", \"transform\": [{\"keys\": [\"data.col\"], \"type\": \"facet\"}]}, \"marks\": [{\"properties\": {\"enter\": {\"fill\": {\"field\": \"data.col\", \"scale\": \"color\"}, \"interpolate\": {\"value\": \"monotone\"}, \"x\": {\"field\": \"data.idx\", \"scale\": \"x\"}, \"y\": {\"field\": \"data.val\", \"scale\": \"y\"}, \"y2\": {\"scale\": \"y\", \"value\": 0}}}, \"type\": \"area\"}], \"type\": \"group\"}], \"padding\": {\"bottom\": 50, \"left\": 50, \"right\": 100, \"top\": 10}, \"scales\": [{\"domain\": {\"data\": \"table\", \"field\": \"data.idx\"}, \"name\": \"x\", \"range\": \"width\", \"type\": \"time\"}, {\"domain\": {\"data\": \"table\", \"field\": \"data.val\"}, \"name\": \"y\", \"nice\": true, \"range\": \"height\", \"type\": \"linear\"}, {\"domain\": {\"data\": \"table\", \"field\": \"data.col\"}, \"name\": \"color\", \"range\": \"category20\", \"type\": \"ordinal\"}], \"width\": 960}, function(chart) {\n",
        "      chart({el: \"#vis61136\"}).update();\n",
        "    });\n",
        "  };\n",
        "  _do_plot();\n",
        "})();\n"
       ],
       "metadata": {},
       "output_type": "display_data",
       "text": [
        "<IPython.core.display.Javascript at 0x4b5cd10>"
       ]
      }
     ],
     "prompt_number": 75
    },
    {
     "cell_type": "markdown",
     "metadata": {},
     "source": [
      "Clearly these expenditures are increasing over time.  The relevant question is, however, does this matter?  In general, looking at expenditures for health (or any social expenditure item) in a vacuum is of limited value.  Our expenditure in health is over seven times as large now as it was 30 years ago.  I guess that's passingly interesting, and it certainly mirrors the kind of information often tossed about in the news.  But again, *so what*?  \n",
      "\n",
      "That information does not provide any operational knowledge.  We spend more on a lot of things than we did 30 years ago.  We cannot make policy base upon that information alone.  The relevant question (or one of them anyway) centers on opportunity cost.  If we are spending $x$ on health care, how much do we give up in other areas?  This is one of the few cases in which making a comparison to a household budget actually makes sense.  If one spent 25% of the household budget on going out to eat last year, and then spent 30% of the budget on the same activity this year, everything else gets squeezed.  Just as our household budget is set by the income we pull in, the relevant budget constraint for the country is GDP.  Let us reconsider health expenditures as a portion of GDP."
     ]
    },
    {
     "cell_type": "code",
     "collapsed": false,
     "input": [
      "'''We will perform a similar operation here as we did with the health expenditure data above.  We are only\n",
      "inserting the newly calculated fraction as our series.'''\n",
      "\n",
      "#Capture GDP\n",
      "gdp=web.get_data_fred('GDP','1/1/1970','12/1/2013')\n",
      "\n",
      "#Combine health expenditure and GDP information\n",
      "hth_gdp=DataFrame(hth_exp).join(gdp)\n",
      "\n",
      "#Rename columns\n",
      "hth_gdp.columns=['hth','gdp']\n",
      "\n",
      "#Calculate health expenditure as % of GDP\n",
      "hth_gdp['hth_gdp']=hth_gdp['hth']/hth_gdp['gdp']\n",
      "\n",
      "#Create area object\n",
      "hth_gdp_area=vt.Area(hth_gdp['hth_gdp'])\n",
      "\n",
      "#Create axis labels\n",
      "hth_gdp_area.axis_titles(x='Quarter',y='Health Expenditures ($B)')\n",
      "\n",
      "#Set number of tick marks\n",
      "hth_gdp_area.axes[0].ticks=10\n",
      "\n",
      "#Set color of chart\n",
      "hth_gdp_area.colors(brew='RdBu')\n",
      "\n",
      "hth_gdp_area.display()"
     ],
     "language": "python",
     "metadata": {},
     "outputs": [
      {
       "html": [
        "<div id=\"vis54095\"></div>"
       ],
       "metadata": {},
       "output_type": "display_data",
       "text": [
        "<IPython.core.display.HTML at 0x4d84a90>"
       ]
      },
      {
       "javascript": [
        "\n",
        "( function() {\n",
        "  var _do_plot = function() {\n",
        "    if ( typeof vg == 'undefined' ) {\n",
        "      $([IPython.events]).on(\"vega_loaded.vincent\", _do_plot);\n",
        "      return;\n",
        "    }\n",
        "    vg.parse.spec({\"axes\": [{\"scale\": \"x\", \"ticks\": 10, \"title\": \"Quarter\", \"type\": \"x\"}, {\"scale\": \"y\", \"title\": \"Health Expenditures ($B)\", \"type\": \"y\"}], \"data\": [{\"name\": \"table\", \"values\": [{\"col\": \"hth_gdp\", \"idx\": 18000000, \"val\": 0.04318936877076412}, {\"col\": \"hth_gdp\", \"idx\": 7794000000, \"val\": 0.043640781235398565}, {\"col\": \"hth_gdp\", \"idx\": 15652800000, \"val\": 0.044372990353697746}, {\"col\": \"hth_gdp\", \"idx\": 23601600000, \"val\": 0.04608337150710032}, {\"col\": \"hth_gdp\", \"idx\": 31554000000, \"val\": 0.04508701001933556}, {\"col\": \"hth_gdp\", \"idx\": 39330000000, \"val\": 0.04562704847334828}, {\"col\": \"hth_gdp\", \"idx\": 47188800000, \"val\": 0.0462594255697704}, {\"col\": \"hth_gdp\", \"idx\": 55137600000, \"val\": 0.04700067024128687}, {\"col\": \"hth_gdp\", \"idx\": 63090000000, \"val\": 0.04668503809369428}, {\"col\": \"hth_gdp\", \"idx\": 70952400000, \"val\": 0.04645303519407921}, {\"col\": \"hth_gdp\", \"idx\": 78811200000, \"val\": 0.04683876951615397}, {\"col\": \"hth_gdp\", \"idx\": 86760000000, \"val\": 0.046621621621621624}, {\"col\": \"hth_gdp\", \"idx\": 94712400000, \"val\": 0.046643007170275946}, {\"col\": \"hth_gdp\", \"idx\": 102488400000, \"val\": 0.04691027088036118}, {\"col\": \"hth_gdp\", \"idx\": 110347200000, \"val\": 0.04739699331848552}, {\"col\": \"hth_gdp\", \"idx\": 118296000000, \"val\": 0.0471232506253803}, {\"col\": \"hth_gdp\", \"idx\": 126248400000, \"val\": 0.04810329832073326}, {\"col\": \"hth_gdp\", \"idx\": 134020800000, \"val\": 0.048624690392386906}, {\"col\": \"hth_gdp\", \"idx\": 141883200000, \"val\": 0.04950748368939491}, {\"col\": \"hth_gdp\", \"idx\": 149832000000, \"val\": 0.05015595757953837}, {\"col\": \"hth_gdp\", \"idx\": 157784400000, \"val\": 0.05217337614225735}, {\"col\": \"hth_gdp\", \"idx\": 165556800000, \"val\": 0.05294614827336392}, {\"col\": \"hth_gdp\", \"idx\": 173419200000, \"val\": 0.052223129886801264}, {\"col\": \"hth_gdp\", \"idx\": 181368000000, \"val\": 0.05334390395832153}, {\"col\": \"hth_gdp\", \"idx\": 189320400000, \"val\": 0.05332967936420937}, {\"col\": \"hth_gdp\", \"idx\": 197182800000, \"val\": 0.054014755775755284}, {\"col\": \"hth_gdp\", \"idx\": 205041600000, \"val\": 0.05469452525786829}, {\"col\": \"hth_gdp\", \"idx\": 212990400000, \"val\": 0.054890631448617416}, {\"col\": \"hth_gdp\", \"idx\": 220942800000, \"val\": 0.0550564617314931}, {\"col\": \"hth_gdp\", \"idx\": 228718800000, \"val\": 0.05572274536452772}, {\"col\": \"hth_gdp\", \"idx\": 236577600000, \"val\": 0.055597436863927624}, {\"col\": \"hth_gdp\", \"idx\": 244526400000, \"val\": 0.05547101950477245}, {\"col\": \"hth_gdp\", \"idx\": 252478800000, \"val\": 0.05668492778557523}, {\"col\": \"hth_gdp\", \"idx\": 260254800000, \"val\": 0.055422408627920916}, {\"col\": \"hth_gdp\", \"idx\": 268113600000, \"val\": 0.05535870607361708}, {\"col\": \"hth_gdp\", \"idx\": 276062400000, \"val\": 0.05527354765933446}, {\"col\": \"hth_gdp\", \"idx\": 284014800000, \"val\": 0.05597250750513509}, {\"col\": \"hth_gdp\", \"idx\": 291790800000, \"val\": 0.0562810585923957}, {\"col\": \"hth_gdp\", \"idx\": 299649600000, \"val\": 0.05654583582983822}, {\"col\": \"hth_gdp\", \"idx\": 307598400000, \"val\": 0.05734793276449262}, {\"col\": \"hth_gdp\", \"idx\": 315550800000, \"val\": 0.05807259073842303}, {\"col\": \"hth_gdp\", \"idx\": 323413200000, \"val\": 0.059180685024465156}, {\"col\": \"hth_gdp\", \"idx\": 331272000000, \"val\": 0.06108391608391608}, {\"col\": \"hth_gdp\", \"idx\": 339220800000, \"val\": 0.06139969934858861}, {\"col\": \"hth_gdp\", \"idx\": 347173200000, \"val\": 0.06111501373012325}, {\"col\": \"hth_gdp\", \"idx\": 354949200000, \"val\": 0.06283152311189695}, {\"col\": \"hth_gdp\", \"idx\": 362808000000, \"val\": 0.06322825953636699}, {\"col\": \"hth_gdp\", \"idx\": 370756800000, \"val\": 0.06426069742652657}, {\"col\": \"hth_gdp\", \"idx\": 378709200000, \"val\": 0.0657951004948378}, {\"col\": \"hth_gdp\", \"idx\": 386485200000, \"val\": 0.06637048599645784}, {\"col\": \"hth_gdp\", \"idx\": 394344000000, \"val\": 0.06780315404947879}, {\"col\": \"hth_gdp\", \"idx\": 402292800000, \"val\": 0.06925289042784201}, {\"col\": \"hth_gdp\", \"idx\": 410245200000, \"val\": 0.06999396603741057}, {\"col\": \"hth_gdp\", \"idx\": 418021200000, \"val\": 0.06981416373681566}, {\"col\": \"hth_gdp\", \"idx\": 425880000000, \"val\": 0.06938764455759282}, {\"col\": \"hth_gdp\", \"idx\": 433828800000, \"val\": 0.06914991702009958}, {\"col\": \"hth_gdp\", \"idx\": 441781200000, \"val\": 0.06879983643426701}, {\"col\": \"hth_gdp\", \"idx\": 449643600000, \"val\": 0.0681444582814446}, {\"col\": \"hth_gdp\", \"idx\": 457502400000, \"val\": 0.06818515437686548}, {\"col\": \"hth_gdp\", \"idx\": 465451200000, \"val\": 0.06856977529173497}, {\"col\": \"hth_gdp\", \"idx\": 473403600000, \"val\": 0.06868067028557942}, {\"col\": \"hth_gdp\", \"idx\": 481179600000, \"val\": 0.06919554656811472}, {\"col\": \"hth_gdp\", \"idx\": 489038400000, \"val\": 0.06965366586264961}, {\"col\": \"hth_gdp\", \"idx\": 496987200000, \"val\": 0.07051267656239472}, {\"col\": \"hth_gdp\", \"idx\": 504939600000, \"val\": 0.07098731262316499}, {\"col\": \"hth_gdp\", \"idx\": 512715600000, \"val\": 0.07152265542676502}, {\"col\": \"hth_gdp\", \"idx\": 520574400000, \"val\": 0.07199757554766646}, {\"col\": \"hth_gdp\", \"idx\": 528523200000, \"val\": 0.07315715081166746}, {\"col\": \"hth_gdp\", \"idx\": 536475600000, \"val\": 0.07402559013555171}, {\"col\": \"hth_gdp\", \"idx\": 544251600000, \"val\": 0.07487451777492016}, {\"col\": \"hth_gdp\", \"idx\": 552110400000, \"val\": 0.07589021528415467}, {\"col\": \"hth_gdp\", \"idx\": 560059200000, \"val\": 0.07575606745375993}, {\"col\": \"hth_gdp\", \"idx\": 568011600000, \"val\": 0.07714218363257769}, {\"col\": \"hth_gdp\", \"idx\": 575874000000, \"val\": 0.07765424275591912}, {\"col\": \"hth_gdp\", \"idx\": 583732800000, \"val\": 0.07863005943956977}, {\"col\": \"hth_gdp\", \"idx\": 591681600000, \"val\": 0.07877768950800894}, {\"col\": \"hth_gdp\", \"idx\": 599634000000, \"val\": 0.07908020190689849}, {\"col\": \"hth_gdp\", \"idx\": 607410000000, \"val\": 0.07902778764835477}, {\"col\": \"hth_gdp\", \"idx\": 615268800000, \"val\": 0.07957629344305349}, {\"col\": \"hth_gdp\", \"idx\": 623217600000, \"val\": 0.0812714717007322}, {\"col\": \"hth_gdp\", \"idx\": 631170000000, \"val\": 0.08200923473891492}, {\"col\": \"hth_gdp\", \"idx\": 638946000000, \"val\": 0.08358718575302111}, {\"col\": \"hth_gdp\", \"idx\": 646804800000, \"val\": 0.08544655444066673}, {\"col\": \"hth_gdp\", \"idx\": 654753600000, \"val\": 0.08751016884432122}, {\"col\": \"hth_gdp\", \"idx\": 662706000000, \"val\": 0.08857435423135362}, {\"col\": \"hth_gdp\", \"idx\": 670482000000, \"val\": 0.08921479262972849}, {\"col\": \"hth_gdp\", \"idx\": 678340800000, \"val\": 0.09026437668853725}, {\"col\": \"hth_gdp\", \"idx\": 686289600000, \"val\": 0.09193699934706097}, {\"col\": \"hth_gdp\", \"idx\": 694242000000, \"val\": 0.09295072718154464}, {\"col\": \"hth_gdp\", \"idx\": 702104400000, \"val\": 0.0936185943348274}, {\"col\": \"hth_gdp\", \"idx\": 709963200000, \"val\": 0.09420784938890155}, {\"col\": \"hth_gdp\", \"idx\": 717912000000, \"val\": 0.09403508771929824}, {\"col\": \"hth_gdp\", \"idx\": 725864400000, \"val\": 0.09466228031178685}, {\"col\": \"hth_gdp\", \"idx\": 733640400000, \"val\": 0.09444184139627504}, {\"col\": \"hth_gdp\", \"idx\": 741499200000, \"val\": 0.09455114278265403}, {\"col\": \"hth_gdp\", \"idx\": 749448000000, \"val\": 0.09366113070185417}, {\"col\": \"hth_gdp\", \"idx\": 757400400000, \"val\": 0.09348112440794822}, {\"col\": \"hth_gdp\", \"idx\": 765176400000, \"val\": 0.092918649756527}, {\"col\": \"hth_gdp\", \"idx\": 773035200000, \"val\": 0.09312858736160606}, {\"col\": \"hth_gdp\", \"idx\": 780984000000, \"val\": 0.09290319129015863}, {\"col\": \"hth_gdp\", \"idx\": 788936400000, \"val\": 0.09380674061998859}, {\"col\": \"hth_gdp\", \"idx\": 796712400000, \"val\": 0.09409722678799196}, {\"col\": \"hth_gdp\", \"idx\": 804571200000, \"val\": 0.09389476416012457}, {\"col\": \"hth_gdp\", \"idx\": 812520000000, \"val\": 0.09392909801910379}, {\"col\": \"hth_gdp\", \"idx\": 820472400000, \"val\": 0.09328400755089887}, {\"col\": \"hth_gdp\", \"idx\": 828334800000, \"val\": 0.09278670222663277}, {\"col\": \"hth_gdp\", \"idx\": 836193600000, \"val\": 0.09251133717367324}, {\"col\": \"hth_gdp\", \"idx\": 844142400000, \"val\": 0.09280801254977676}, {\"col\": \"hth_gdp\", \"idx\": 852094800000, \"val\": 0.09239466793620565}, {\"col\": \"hth_gdp\", \"idx\": 859870800000, \"val\": 0.09183924040271753}, {\"col\": \"hth_gdp\", \"idx\": 867729600000, \"val\": 0.09163914999367212}, {\"col\": \"hth_gdp\", \"idx\": 875678400000, \"val\": 0.09166733042795536}, {\"col\": \"hth_gdp\", \"idx\": 883630800000, \"val\": 0.09226408090261763}, {\"col\": \"hth_gdp\", \"idx\": 891406800000, \"val\": 0.09219873925756278}, {\"col\": \"hth_gdp\", \"idx\": 899265600000, \"val\": 0.09147761438801728}, {\"col\": \"hth_gdp\", \"idx\": 907214400000, \"val\": 0.09028909668010637}, {\"col\": \"hth_gdp\", \"idx\": 915166800000, \"val\": 0.08982783615334963}, {\"col\": \"hth_gdp\", \"idx\": 922942800000, \"val\": 0.08953616064425038}, {\"col\": \"hth_gdp\", \"idx\": 930801600000, \"val\": 0.08929177770689495}, {\"col\": \"hth_gdp\", \"idx\": 938750400000, \"val\": 0.0887508432085217}, {\"col\": \"hth_gdp\", \"idx\": 946702800000, \"val\": 0.08905849881926245}, {\"col\": \"hth_gdp\", \"idx\": 954565200000, \"val\": 0.08848955142604314}, {\"col\": \"hth_gdp\", \"idx\": 962424000000, \"val\": 0.08941700920511783}, {\"col\": \"hth_gdp\", \"idx\": 970372800000, \"val\": 0.09004038070508721}, {\"col\": \"hth_gdp\", \"idx\": 978325200000, \"val\": 0.09190963139120095}, {\"col\": \"hth_gdp\", \"idx\": 986101200000, \"val\": 0.09256126898210795}, {\"col\": \"hth_gdp\", \"idx\": 993960000000, \"val\": 0.09452007177550427}, {\"col\": \"hth_gdp\", \"idx\": 1001908800000, \"val\": 0.09613462023601521}, {\"col\": \"hth_gdp\", \"idx\": 1009861200000, \"val\": 0.0971090585293385}, {\"col\": \"hth_gdp\", \"idx\": 1017637200000, \"val\": 0.09827207899067472}, {\"col\": \"hth_gdp\", \"idx\": 1025496000000, \"val\": 0.0991141143861302}, {\"col\": \"hth_gdp\", \"idx\": 1033444800000, \"val\": 0.09994867500472729}, {\"col\": \"hth_gdp\", \"idx\": 1041397200000, \"val\": 0.10027780745806177}, {\"col\": \"hth_gdp\", \"idx\": 1049173200000, \"val\": 0.10069120776685368}, {\"col\": \"hth_gdp\", \"idx\": 1057032000000, \"val\": 0.10009115613497989}, {\"col\": \"hth_gdp\", \"idx\": 1064980800000, \"val\": 0.10013961162584084}, {\"col\": \"hth_gdp\", \"idx\": 1072933200000, \"val\": 0.10043864769751656}, {\"col\": \"hth_gdp\", \"idx\": 1080795600000, \"val\": 0.10081667829441457}, {\"col\": \"hth_gdp\", \"idx\": 1088654400000, \"val\": 0.10134687211990881}, {\"col\": \"hth_gdp\", \"idx\": 1096603200000, \"val\": 0.10141040131170506}, {\"col\": \"hth_gdp\", \"idx\": 1104555600000, \"val\": 0.10088013607777657}, {\"col\": \"hth_gdp\", \"idx\": 1112331600000, \"val\": 0.10099647803201368}, {\"col\": \"hth_gdp\", \"idx\": 1120190400000, \"val\": 0.10113201832430999}, {\"col\": \"hth_gdp\", \"idx\": 1128139200000, \"val\": 0.10087945424521605}, {\"col\": \"hth_gdp\", \"idx\": 1136091600000, \"val\": 0.09997948687892864}, {\"col\": \"hth_gdp\", \"idx\": 1143867600000, \"val\": 0.10024704953306915}, {\"col\": \"hth_gdp\", \"idx\": 1151726400000, \"val\": 0.10092376262535495}, {\"col\": \"hth_gdp\", \"idx\": 1159675200000, \"val\": 0.10125529555599784}, {\"col\": \"hth_gdp\", \"idx\": 1167627600000, \"val\": 0.10210045662100457}, {\"col\": \"hth_gdp\", \"idx\": 1175400000000, \"val\": 0.10178515719782315}, {\"col\": \"hth_gdp\", \"idx\": 1183262400000, \"val\": 0.10238198175941368}, {\"col\": \"hth_gdp\", \"idx\": 1191211200000, \"val\": 0.1030360789652825}, {\"col\": \"hth_gdp\", \"idx\": 1199163600000, \"val\": 0.10479864239516389}, {\"col\": \"hth_gdp\", \"idx\": 1207022400000, \"val\": 0.10457511928784985}, {\"col\": \"hth_gdp\", \"idx\": 1214884800000, \"val\": 0.10528620413222585}, {\"col\": \"hth_gdp\", \"idx\": 1222833600000, \"val\": 0.10833384891418672}, {\"col\": \"hth_gdp\", \"idx\": 1230786000000, \"val\": 0.11119378076933774}, {\"col\": \"hth_gdp\", \"idx\": 1238558400000, \"val\": 0.11309361948389705}, {\"col\": \"hth_gdp\", \"idx\": 1246420800000, \"val\": 0.11397069047023164}, {\"col\": \"hth_gdp\", \"idx\": 1254369600000, \"val\": 0.11322361148303019}, {\"col\": \"hth_gdp\", \"idx\": 1262322000000, \"val\": 0.11276196967115353}, {\"col\": \"hth_gdp\", \"idx\": 1270094400000, \"val\": 0.11282864670143555}, {\"col\": \"hth_gdp\", \"idx\": 1277956800000, \"val\": 0.11316429454212017}, {\"col\": \"hth_gdp\", \"idx\": 1285905600000, \"val\": 0.11334256845920022}, {\"col\": \"hth_gdp\", \"idx\": 1293858000000, \"val\": 0.11428271523135361}, {\"col\": \"hth_gdp\", \"idx\": 1301630400000, \"val\": 0.11408041702507454}, {\"col\": \"hth_gdp\", \"idx\": 1309492800000, \"val\": 0.11326688786686993}, {\"col\": \"hth_gdp\", \"idx\": 1317441600000, \"val\": 0.11359340527350541}, {\"col\": \"hth_gdp\", \"idx\": 1325394000000, \"val\": 0.11384151206862159}, {\"col\": \"hth_gdp\", \"idx\": 1333252800000, \"val\": 0.11360486126581026}, {\"col\": \"hth_gdp\", \"idx\": 1341115200000, \"val\": 0.1134690633406701}, {\"col\": \"hth_gdp\", \"idx\": 1349064000000, \"val\": 0.11403567535306908}, {\"col\": \"hth_gdp\", \"idx\": 1357016400000, \"val\": 0.1142525385085242}, {\"col\": \"hth_gdp\", \"idx\": 1364788800000, \"val\": 0.11421283236300343}, {\"col\": \"hth_gdp\", \"idx\": 1372651200000, \"val\": 0.11371793128322168}]}], \"height\": 500, \"legends\": [], \"marks\": [{\"from\": {\"data\": \"table\", \"transform\": [{\"keys\": [\"data.col\"], \"type\": \"facet\"}]}, \"marks\": [{\"properties\": {\"enter\": {\"fill\": {\"field\": \"data.col\", \"scale\": \"color\"}, \"interpolate\": {\"value\": \"monotone\"}, \"x\": {\"field\": \"data.idx\", \"scale\": \"x\"}, \"y\": {\"field\": \"data.val\", \"scale\": \"y\"}, \"y2\": {\"scale\": \"y\", \"value\": 0}}}, \"type\": \"area\"}], \"type\": \"group\"}], \"padding\": {\"bottom\": 50, \"left\": 50, \"right\": 100, \"top\": 10}, \"scales\": [{\"domain\": {\"data\": \"table\", \"field\": \"data.idx\"}, \"name\": \"x\", \"range\": \"width\", \"type\": \"time\"}, {\"domain\": {\"data\": \"table\", \"field\": \"data.val\"}, \"name\": \"y\", \"nice\": true, \"range\": \"height\", \"type\": \"linear\"}, {\"domain\": {\"data\": \"table\", \"field\": \"data.col\"}, \"name\": \"color\", \"range\": [\"#67001f\", \"#b2182b\", \"#d6604d\", \"#f4a582\", \"#fddbc7\", \"#f7f7f7\", \"#d1e5f0\", \"#92c5de\", \"#4393c3\", \"#2166ac\", \"#053061\"], \"type\": \"ordinal\"}], \"width\": 960}, function(chart) {\n",
        "      chart({el: \"#vis54095\"}).update();\n",
        "    });\n",
        "  };\n",
        "  _do_plot();\n",
        "})();\n"
       ],
       "metadata": {},
       "output_type": "display_data",
       "text": [
        "<IPython.core.display.Javascript at 0x4d84b50>"
       ]
      }
     ],
     "prompt_number": 99
    },
    {
     "cell_type": "markdown",
     "metadata": {},
     "source": [
      "This chart is a bit more alarming.  By measuring expenditures relative to income, we see that health expenditures are increasingly crowding out other investments.  That being said, the relative flattening of the curve in the last five years has [led many to speculate](http://www.usatoday.com/story/money/business/2013/12/25/medical-inflation-insurance/3784635/) about whether or not the dire fiscal implications of the historical trend are still as likely to come to pass.\n",
      "\n",
      "Placing US health expenditures in international context is more jarring still.  The table below displays total health expenditure (not just personal consumption like above) as a percentage of GDP across OECD countries."
     ]
    },
    {
     "cell_type": "code",
     "collapsed": false,
     "input": [
      "HTML('<iframe'+\\\n",
      "     ' src=http://www.keepeek.com/Digital-Asset-Management/embed-oecd/social-issues-migration-health/'+\\\n",
      "     'total-expenditure-on-health-2013-2_hlthxp-total-table-2013-2-en'+\\\n",
      "     ' width=1000 height=1200/>')"
     ],
     "language": "python",
     "metadata": {},
     "outputs": [
      {
       "html": [
        "<iframe src=http://www.keepeek.com/Digital-Asset-Management/embed-oecd/social-issues-migration-health/total-expenditure-on-health-2013-2_hlthxp-total-table-2013-2-en width=1000 height=1200/>"
       ],
       "metadata": {},
       "output_type": "pyout",
       "prompt_number": 114,
       "text": [
        "<IPython.core.display.HTML at 0x4dd7790>"
       ]
      }
     ],
     "prompt_number": 114
    },
    {
     "cell_type": "markdown",
     "metadata": {},
     "source": [
      "The US clearly stands out as a very high expenditure country in the area of health, which seems to be quite at odds with our health outcomes.  A NIH-convened panel composed of personnel from the the National Research Council and the Institute of Medicine generated a report titled [*U.S. Health in International Perspective: Shorter Lives, Poorer Health*](https://www.google.com/url?sa=t&rct=j&q=&esrc=s&source=web&cd=3&cad=rja&ved=0CEQQFjAC&url=http%3A%2F%2Fwww.iom.edu%2F~%2Fmedia%2FFiles%2FReport%2520Files%2F2013%2FUS-Health-International-Perspective%2FUSHealth_Intl_PerspectiveRB.pdf&ei=u2a8UuvgFdSssATxmoDIDA&usg=AFQjCNGmS6icjsnp7cPrhGLluFdhrVwIag&sig2=vYt6lIgVWvjNkQBJJlWW-g&bvm=bv.58187178,d.cWc).  As may be guess from the title, the findings are suboptimal.\n",
      "\n",
      "These contextual factors fundamentally influenced the health care reform effort in recent years.  Even if health expenditures have slowed, there is ample cause to seek better outcomes and lower cost."
     ]
    },
    {
     "cell_type": "heading",
     "level": 2,
     "metadata": {},
     "source": [
      "The Intellectual Foundations of the Affordable Care Act"
     ]
    },
    {
     "cell_type": "markdown",
     "metadata": {},
     "source": [
      "Even though the picture is arguably much worse now than in the past, many analysts saw reason for concern years ago.  In fact, although there is a rather [meaningless semantic argument](https://www.askheritage.org/heritage-rebuts-president-obamas-claims-that-heritage-supported-obamacare/) over whether or not they were the first to do so, there can be no doubt that the [Heritage Foundation](http://blog.heritage.org/category/obamacare/) (a prominent conservative think tank lobbying against Obamacare with remarkable zeal) strongly supported a plan that mirrors the ACA concept (Butler, 1989).  As the report outlines, they saw three fundamental problems with the health care system:\n",
      "\n",
      "+ **Cost growth stemming from the disconnect between consumer payments and the cost of delivery.**\n",
      "\n",
      "For those with employer-based insurance, benefits are tax-free.  Since consumers are shielded from the full cost, they are likely to [demand a greater than optimal service volume](http://subsidizinggreen.blogspot.com/2011/11/micro-economics-role-of-government.html).  In the health insurance market, this also has the effect of throwing a wedge between employer-covered individuals and those who must operate on the individual market.  The latter pay for benefits with after-tax money.\n",
      "\n",
      "To deal with this issue, Heritage proposed to make all health care benefits taxable.  Furthermore, a 20 percent tax credit would be provided for all insurance purchases that met basic requirements.  An additional tax credit would be offered to offset out-of-pocket expenses.  Insofar as this credit increased with the percentage of income allocated to health expenditures, it would be a notably progressive mechanism.  The idea was to decouple the pricing scheme from employment, thereby increasing competition across the group and non-group markets.\n",
      "\n",
      "+ **While sufficiently low-income individuals are covered by Medicaid and high-income individuals are disproportionately covered by their employers, there is a gap between these two groups.**\n",
      "\n",
      "In particular, individuals that are close to, but not under the welfare threshold are typically not eligible for Medicaid.  The tax credits above were also intended to help these individuals who \"cannot afford protection.\"  The vehicle for this subsidy was the refundable property of said credits.\n",
      "\n",
      "+ **\"[W]e in the U.S. are very reluctant to require households to protect themselves against health caree needs.\"**\n",
      "\n",
      "Despite our decision to reject this approach in other areas (e.g. auto insurance), we have only just decided that the negative externalities associated with individuals that forgo health insurance coverage is a legitimate social problem.\n",
      "\n",
      "Heritage argued that an individual mandate was necessary.  It would place responsibility for health care coverage on individuals and not businesses.  Further, it honors what was referred to as an \"implicit contract\" between individuals and society insofar as society should feel obligated to assist those who have fallen into dire health circumstances.\n",
      "\n",
      "\n",
      "How similar could the *Heritage Plan* and the ACA really be?\n",
      "\n",
      "The *Heritage Plan* offered in (Butler, 1989) outlines the following four objectives:\n",
      "\n",
      "1. \"All citizens should be guaranteed universal access to affordable health care.\" (HP1)\n",
      "2. \"The Inflationary pressures in the health industry should be brought under control.\" (HP2)\n",
      "3. \"Direct and indirect government assistance should be concentrated on those who need it most.\" (HP3)\n",
      "4. \"A reformed system should encourage greater innovation in the delivery of health care.\" (HP4)\n",
      "\n",
      "The ACA outlines the following [five objectives](http://www.ncbi.nlm.nih.gov/pmc/articles/PMC3001814/):\n",
      "\n",
      "1. \"[T]o achieve near-universal coverage and to do so through shared responsibility among government, individuals, and employers.\" (ACA1)\n",
      "2. \"[T]o improve the fairness, quality, and affordability of health insurance coverage.\" (ACA2)\n",
      "3. \"[T]o improve health-care value, quality, and efficiency while reducing wasteful spending and making the health-care system more accountable to a diverse patient population.\" (ACA3)\n",
      "4. \"[T]o strengthen primary health-care access while bringing about longer-term changes in the availability of primary and preventive health care.\" (ACA4)\n",
      "5. \"[T]o make strategic investments in the public's health, through both an expansion of clinical preventive care and community investments.\" (ACA5)\n",
      "\n",
      "If these goals sound very similar, it's not your imagination.  To be sure, there are subtle differences.  For example, HP4 seeks to \"encourage innovation\" while ACA5 seeks to make specific strategic investments in concert with ACA3 which seeks to make health care expenditure more productive.  However, to argue that these efforts were not cut from the same cloth is a remarkable stretch.\n",
      "\n"
     ]
    },
    {
     "cell_type": "heading",
     "level": 3,
     "metadata": {},
     "source": [
      "Enter the ACA"
     ]
    },
    {
     "cell_type": "markdown",
     "metadata": {},
     "source": [
      "To borrow from (Gruber,2011), the foundation of the ACA is a \"three-legged stool\".  This approach looks a lot like the *Heritage Plan*, but there are some important differences which will become clear.\n",
      "\n",
      "+ **Non-Group Insurance Market Reform**\n",
      "\n",
      "In this context, non-group insurance simply refers to the individual insurance market.  The ACA goes beyond the tax treatment of benefits to attack specific attributes of the market that were deemed problematic.  \"These include outlawing exclusions for pre-existing conditions and other discriminatory practices, guaranteeing access to non-group insurance, and imposing limits on the availability of insurers to charge differential prices by health status.\"\n",
      "\n",
      "Indeed, these are all reforms that poll extremely well when not associated directly with the name Obamacare.  Unfortunately, many people seem not to realize that they are part of the law.  \n",
      "\n",
      "In addition to these reforms, minimum standards for \"essential benefits\" and provisions intended to put downward pressure on overhead were also included.  These efforts are a bit more controversial.  The first is the primary reason why President Obama has been called out for his ill-advised assertion:  \"If you like it, you can keep it.\"The plans that have been cancelled in recent months largely did not comply with the minimum standards set by the ACA.  In other words, according to the ACA these plans could not provide an adequate level of protection.  It should also be noted that the practical consequence of setting a benefit floor is upward pressure on the premiums paid by individuals.  Why is this the case?  Ceteris paribus, a more robust insurance package (one that covers more services) will cost more than a less robust insurance package.  In other words, it's not that the same insurance is more expensive.  Rather, the cost is growing because it's a fundamentally different product.  Some argue that this represents an unreasonable reduction in [consumer choice](http://www.heritage.org/research/reports/2012/07/10-ways-obamacare-limits-patient-choice).  Others argue that many of the plans that are now defunct really [didn't provide insurance coverage as popularly perceived](http://mediamatters.org/blog/2013/10/31/right-wing-media-promote-inadequate-health-plan/196690) anyway.  Given that the value of purchasing insurance declines with deductible value, it is difficult to argue against the latter (in the case of the very low cost/high deductible plans that have been cancelled).  The downward pressure on overhead is not without it's own controversy, to be discussed below.\n",
      "\n",
      "+ **Individual Mandate**\n",
      "\n",
      "This component of the reform is taken directly from earlier iterations of health care reforms of this type (including the *Heritage Plan*).  The goal here is to avoid the problem of [adverse selection](http://en.wikipedia.org/wiki/Adverse_selection) that plagues insurance pools.  In a nutshell, insurance providers are able to hold individual risk by pooling these risks together in a way that limits extreme movements in the entire pool.  This is a very similar concept to [portfolio theory](http://en.wikipedia.org/wiki/Modern_portfolio_theory).  Adverse selection occurs when low-cost individuals fail to enter the market, leaving no one to offset high-risk individuals.  The individual mandate is a long-recognized method of adjusting the microeconomics of the decision to enter the market, primarily targeting healthy (low-cost) individuals.  \n",
      "\n",
      "Clearly this has been a point of serious contention, despite extant parallel practices in the auto market.  The constitutionality of this provision is somewhat different than in the case of the auto market (state constitutions retain a broader set of residual powers relative to the federal constitution).  However, as the [Supreme Court found last year](http://www.supremecourt.gov/docket/ppaaca.aspx), the penalty associated with violating the individual mandate is basically a tax.\n",
      "\n",
      "+ **Government Subsidies**\n",
      "\n",
      "The problem with the individual mandate is that compliance with the law must be achievable.  Even with other reforms (or perhaps because of them), premiums will be higher than what some people can reasonably be expected to pay.  The ACA attacks this issue in two ways.  First, it expands Medicaid to cover all individuals with incomes below 133%.  (In 2011, this was an annual income of less than \\$10,820 for individuals and \\$22,050 for a family of four.)  The Supreme Court found that such expansion would have fiscal implications for states and therefore could not be forced upon them.  The decision by each state to expand Medicaid has been quite partisan.\n",
      "\n",
      "The second method has been to offset the cost directly through tax credits, much like those proposed in the *Heritage Plan*.  The tax credits are designed to cap the percentage of income that qualifying individuals pay for insurance.  The cap begins at 3% for those right above 133% of the poverty line, and it increases to 9.5%.  Eligibility expires at 400% of the poverty level."
     ]
    },
    {
     "cell_type": "heading",
     "level": 3,
     "metadata": {},
     "source": [
      "A Note About Subsidies"
     ]
    },
    {
     "cell_type": "markdown",
     "metadata": {},
     "source": [
      "A considerable amount of attention has been paid to the subsidies mentioned above.  In general, the concern is subsidies will [reduce the marginal propensity to work](http://www.forbes.com/sites/sallypipes/2013/11/25/obamacare-is-in-serious-trouble-and-obamas-subsidies-are-worth-refusing/).  It is true that marginal returns to employment are impacted by subsidies because they phase out.  There are two major problems with this argument.  The first is that the phase out of a subsidy is a different phenomenon from the subsidy itself.  The phase out decreases the amount of income retained per marginal dollar earned up to a certain point.  If the subsidy were a fixed dollar amount as opposed to being pegged to income, this disincentive vanishes altogether.  The great irony here is that the folks arguing against the marginal incentives of subsidies for low-income individuals are very unlikely to make the same argument in favor of tax credits over deductions more generally.  (The same marginal incentives that come from pegging insurance subsidies to income operate when pegging other tax incentives to income.  This is the reason why people with higher incomes get more of a reduction in tax liability for a given deduction than people who claim the same deduction at a lower income.  Tax credits, on the other hand, do not vary with income.)\n",
      "\n",
      "A second, but related, concern is that subsidies simply make people lazy.  The response to this is why should insurance subsidies be treated any differently?  In the US we subsidize all kinds of things through the tax code (for better or worse).  In fact, these subsidies (a.k.a. tax expenditures) are actually quite massive relative to the size of the budget.  Furthermore, they disproportionately favor high-income taxpayers because 1) they are more likely to itemize, 2) (again) deductions are more valuable at higher income ranges, and 3) they are often for activities disproportionately represented at the higher income scales.  The [Congressional Budget Office](http://www.cbo.gov/) crafted an excellent analysis of the size of these subsidies relative to GDP last year.\n",
      "\n",
      "In general, the use of subsidies (positive or negative) to effect what are deemed to be socially desirable decisions is an extremely old practice.  If this practice is a bad one, we should probably focus on shutting down the biggest offenders first (including the exclusion for employer-based insurance coverage)."
     ]
    },
    {
     "cell_type": "code",
     "collapsed": false,
     "input": [
      "HTML('<iframe'+\\\n",
      "     ' src=http://www.cbo.gov/sites/default/files/cbofiles/images/pubs-images/42xxx/tax-expenditures.png'+\\\n",
      "     ' width=1100 height=820></iframe>')"
     ],
     "language": "python",
     "metadata": {},
     "outputs": [
      {
       "html": [
        "<iframe src=http://www.cbo.gov/sites/default/files/cbofiles/images/pubs-images/42xxx/tax-expenditures.png width=1100 height=820></iframe>"
       ],
       "metadata": {},
       "output_type": "pyout",
       "prompt_number": 121,
       "text": [
        "<IPython.core.display.HTML at 0x4dd7d50>"
       ]
      }
     ],
     "prompt_number": 121
    },
    {
     "cell_type": "heading",
     "level": 3,
     "metadata": {},
     "source": [
      "Material Concerns About the ACA"
     ]
    },
    {
     "cell_type": "markdown",
     "metadata": {},
     "source": [
      "Most of the media attention has focused on the problem of adverse selection and the budgetary impact of the ACA.  We can address both briefly before moving on to conceptual critique offered by the [American Enterprise Institute](http://www.aei.org/) (a prominent conservative think tank that, in my opinion, far outstrips the Heritage Foundation as of late in terms of analytical rigor).  \n",
      "\n",
      "With respect to adverse selection, the concern is that not enough healthy individuals will sign up, instead opting to pay the penalty.  Said differently, the penalty is not sufficient to get them to participate in the exchanges.  When viewed from this perspective, it becomes clear that this is a calibration issue.  It's engineering, not breakthrough research.  If the penalty is not optimal, we can adjust it.  This has little to do with the abstract concept of a penalty.\n",
      "\n",
      "The budgetary impact is sometimes difficult to lockdown because wildly different numbers abound.  The reason for this is that commentators and Congressional Members are comparing apples and oranges.  To provide hard and fast concept names, Republicans tend to talk about the *cost* of Obamacare, while Democrats talk about the *fiscal impact*.  Make no mistake, both parties confusingly use the words interchangeably.  In a sense, they are interchangeable, just not as they are being used here.  As we are using them here, *cost* refers to only the spending side impacts of the ACA, while *fiscal impact* takes into account *revenues* as well.  These concepts are related in the following straightforward equation:\n",
      "\n",
      "*fiscal impact* $=$ *revenues* $-$ *cost*\n",
      "\n",
      "When CBO originally scored the ACA, they indicated a net positive fiscal increase (the ACA reduces the deficit over the budget window).  While the estimates have fluctuated somewhat, [these fluctuations have been minimal](http://www.cbo.gov/publication/44176).  Using the best available information, as a consequence of the revenue provisions embedded in the ACA, CBO still forecasts a net positive fiscal impact of $109 B.  The net fiscal impact figure is from [last summer](http://www.cbo.gov/publication/43471), but the updated cost estimates have given little reason to expect substantial movement there.  There can be, however, if [Congress continues to chip away at revenue sources](http://articles.latimes.com/2013/oct/03/business/la-fi-mh-device-tax-20131003) included in the law."
     ]
    },
    {
     "cell_type": "heading",
     "level": 4,
     "metadata": {},
     "source": [
      "Conceptual Critique"
     ]
    },
    {
     "cell_type": "markdown",
     "metadata": {},
     "source": [
      "Dr. Gottlieb of AEI sees the ACA as \"a plan at war with itself.\" (Gottlieb, 2013)  For example, as outlined in the ACA5 above, it depends on insurers to make investments while simultaneously limiting the non-service related operating margins available to said insurance providers.  These inconsistencies may limit the effectiveness of the law.  Gottlieb's real problem, however, lies in the push towards what are known as Accountable Care Organizations.  In effect, these ACOs are integrated service delivery environments that seek to reduce the number of providers by absorbing smaller practices.  \n",
      "\n",
      "How does one get smaller practices to join large organizations?  The ACA contains provisions that seek to limit reimbursement rates to providers by basically saying, you get a set amount of money to fix this person.  If the costs runover, it's on you. This is in contrast to the existing model in which the insurance company is on the hook for all services provided (to the extent they cannot argue their way out of them). The resultant exposure can be too much to absorb for smaller practices.  Thus, by shifting risk from insurers to providers, a strong incentive is created to join these ACOs, which have a stronger resource base.  \n",
      "\n",
      "From the perspective of the Obama Administration, this provides an opportunity for cost control by permitting organizational managers to act as budgetary stewards.  Gottlieb argues that this is a recipe for fragmented care (due to a transition from family practitioners to \"shift\" doctors) with a strong incentive to underprovide services.  Furthermore, he argues that a similar consolidation effort failed 20 years ago because the cost reductions never materialized.  The same is likely to happen now because the downward pressure on cost appears to be uncoupled with clinical outcomes (among other things).\n",
      "\n",
      "To his credit, Gottlieb acknowledges that the Obama Administration has considered the same issues he fears.  They, however, believe that the earlier failures were a result of infrastructure failures that have since been upgraded."
     ]
    },
    {
     "cell_type": "heading",
     "level": 2,
     "metadata": {},
     "source": [
      "Can the ACA Change Things?"
     ]
    },
    {
     "cell_type": "markdown",
     "metadata": {},
     "source": [
      "Gottlieb (2013) argues that in addition to the theories outlined above, the ACA was and is motivated by a strong belief that the data suggest efficiencies are there for the taking.  We started above with a very high-level view, so now it would be appropriate to explore the current state of insurance coverage and implementation of the ACA.\n",
      "\n",
      "It is useful to start with a view of the uninsured population proportion by state."
     ]
    },
    {
     "cell_type": "code",
     "collapsed": false,
     "input": [
      "'''This is the first instance of a geopandas plot in this script.  pandas DFs convert quite naturally to geopandas\n",
      "GeoDataFrames (GDFs).  Note the following coding conventions:\n",
      "\n",
      "party \n",
      "{0:'Republican',\n",
      " 1:'Democrat'}\n",
      " \n",
      "reelect\n",
      "{0:'No',\n",
      " 1:'Yes'}\n",
      "\n",
      "exchange\n",
      "{0:'State',\n",
      " 1:'Partnership',\n",
      " 2:'Federal'}\n",
      " \n",
      "medicaid\n",
      "{0:'No',\n",
      " 1:'Leaning Toward Not Expanding',\n",
      " 2:'Leaning Toward Expanding',\n",
      " 3:'Yes'}\n",
      "\n",
      "'''\n",
      "\n",
      "#Set working directory\n",
      "workdir='/home/choct155/dissertation/MiscProj/'\n",
      "\n",
      "#Read in data\n",
      "aca=pd.read_csv(workdir+'aca_state.csv')\n",
      "\n",
      "#Read in shape file\n",
      "states=gp.GeoDataFrame.from_file(workdir+'tl_2013_us_state.shp')\n",
      "\n",
      "states"
     ],
     "language": "python",
     "metadata": {},
     "outputs": [
      {
       "ename": "ImportError",
       "evalue": "/usr/lib/libgdal.so.1: undefined symbol: sqlite3_column_table_name",
       "output_type": "pyerr",
       "traceback": [
        "\u001b[1;31m---------------------------------------------------------------------------\u001b[0m\n\u001b[1;31mImportError\u001b[0m                               Traceback (most recent call last)",
        "\u001b[1;32m<ipython-input-123-f1f2d5eb62bd>\u001b[0m in \u001b[0;36m<module>\u001b[1;34m()\u001b[0m\n\u001b[0;32m     30\u001b[0m \u001b[1;33m\u001b[0m\u001b[0m\n\u001b[0;32m     31\u001b[0m \u001b[1;31m#Read in shape file\u001b[0m\u001b[1;33m\u001b[0m\u001b[1;33m\u001b[0m\u001b[0m\n\u001b[1;32m---> 32\u001b[1;33m \u001b[0mstates\u001b[0m\u001b[1;33m=\u001b[0m\u001b[0mgp\u001b[0m\u001b[1;33m.\u001b[0m\u001b[0mGeoDataFrame\u001b[0m\u001b[1;33m.\u001b[0m\u001b[0mfrom_file\u001b[0m\u001b[1;33m(\u001b[0m\u001b[0mworkdir\u001b[0m\u001b[1;33m+\u001b[0m\u001b[1;34m'tl_2013_us_state.shp'\u001b[0m\u001b[1;33m)\u001b[0m\u001b[1;33m\u001b[0m\u001b[0m\n\u001b[0m\u001b[0;32m     33\u001b[0m \u001b[1;33m\u001b[0m\u001b[0m\n\u001b[0;32m     34\u001b[0m \u001b[0mstates\u001b[0m\u001b[1;33m\u001b[0m\u001b[0m\n",
        "\u001b[1;32m/home/choct155/analysis/Anaconda/lib/python2.7/site-packages/geopandas-0.1.0.dev_d7b7f4f-py2.7.egg/geopandas/geodataframe.pyc\u001b[0m in \u001b[0;36mfrom_file\u001b[1;34m(cls, filename, **kwargs)\u001b[0m\n\u001b[0;32m    160\u001b[0m \u001b[1;33m\u001b[0m\u001b[0m\n\u001b[0;32m    161\u001b[0m         \"\"\"\n\u001b[1;32m--> 162\u001b[1;33m         \u001b[1;32mreturn\u001b[0m \u001b[0mgeopandas\u001b[0m\u001b[1;33m.\u001b[0m\u001b[0mio\u001b[0m\u001b[1;33m.\u001b[0m\u001b[0mfile\u001b[0m\u001b[1;33m.\u001b[0m\u001b[0mread_file\u001b[0m\u001b[1;33m(\u001b[0m\u001b[0mfilename\u001b[0m\u001b[1;33m,\u001b[0m \u001b[1;33m**\u001b[0m\u001b[0mkwargs\u001b[0m\u001b[1;33m)\u001b[0m\u001b[1;33m\u001b[0m\u001b[0m\n\u001b[0m\u001b[0;32m    163\u001b[0m \u001b[1;33m\u001b[0m\u001b[0m\n\u001b[0;32m    164\u001b[0m     \u001b[1;33m@\u001b[0m\u001b[0mclassmethod\u001b[0m\u001b[1;33m\u001b[0m\u001b[0m\n",
        "\u001b[1;32m/home/choct155/analysis/Anaconda/lib/python2.7/site-packages/geopandas-0.1.0.dev_d7b7f4f-py2.7.egg/geopandas/io/file.pyc\u001b[0m in \u001b[0;36mread_file\u001b[1;34m(filename, **kwargs)\u001b[0m\n\u001b[0;32m     17\u001b[0m     \u001b[0mfile\u001b[0m \u001b[0mwill\u001b[0m \u001b[1;32mnot\u001b[0m \u001b[0mbe\u001b[0m \u001b[0mproperly\u001b[0m \u001b[0maligned\u001b[0m\u001b[1;33m.\u001b[0m  \u001b[0mThis\u001b[0m \u001b[0mshould\u001b[0m \u001b[0mbe\u001b[0m \u001b[0mfixed\u001b[0m\u001b[1;33m.\u001b[0m\u001b[1;33m\u001b[0m\u001b[0m\n\u001b[0;32m     18\u001b[0m     \"\"\"\n\u001b[1;32m---> 19\u001b[1;33m     \u001b[1;32mimport\u001b[0m \u001b[0mfiona\u001b[0m\u001b[1;33m\u001b[0m\u001b[0m\n\u001b[0m\u001b[0;32m     20\u001b[0m     \u001b[0mgeoms\u001b[0m \u001b[1;33m=\u001b[0m \u001b[1;33m[\u001b[0m\u001b[1;33m]\u001b[0m\u001b[1;33m\u001b[0m\u001b[0m\n\u001b[0;32m     21\u001b[0m     \u001b[0mcolumns\u001b[0m \u001b[1;33m=\u001b[0m \u001b[0mdefaultdict\u001b[0m\u001b[1;33m(\u001b[0m\u001b[1;32mlambda\u001b[0m\u001b[1;33m:\u001b[0m \u001b[1;33m[\u001b[0m\u001b[1;33m]\u001b[0m\u001b[1;33m)\u001b[0m\u001b[1;33m\u001b[0m\u001b[0m\n",
        "\u001b[1;32m/home/choct155/analysis/Anaconda/lib/python2.7/site-packages/Fiona-1.0.2-py2.7-linux-x86_64.egg/fiona/__init__.py\u001b[0m in \u001b[0;36m<module>\u001b[1;34m()\u001b[0m\n\u001b[0;32m     69\u001b[0m \u001b[1;32mfrom\u001b[0m \u001b[0msix\u001b[0m \u001b[1;32mimport\u001b[0m \u001b[0mstring_types\u001b[0m\u001b[1;33m\u001b[0m\u001b[0m\n\u001b[0;32m     70\u001b[0m \u001b[1;33m\u001b[0m\u001b[0m\n\u001b[1;32m---> 71\u001b[1;33m \u001b[1;32mfrom\u001b[0m \u001b[0mfiona\u001b[0m\u001b[1;33m.\u001b[0m\u001b[0mcollection\u001b[0m \u001b[1;32mimport\u001b[0m \u001b[0mCollection\u001b[0m\u001b[1;33m,\u001b[0m \u001b[0msupported_drivers\u001b[0m\u001b[1;33m,\u001b[0m \u001b[0mvsi_path\u001b[0m\u001b[1;33m\u001b[0m\u001b[0m\n\u001b[0m\u001b[0;32m     72\u001b[0m \u001b[1;32mfrom\u001b[0m \u001b[0mfiona\u001b[0m\u001b[1;33m.\u001b[0m\u001b[0modict\u001b[0m \u001b[1;32mimport\u001b[0m \u001b[0mOrderedDict\u001b[0m\u001b[1;33m\u001b[0m\u001b[0m\n\u001b[0;32m     73\u001b[0m \u001b[1;32mfrom\u001b[0m \u001b[0mfiona\u001b[0m\u001b[1;33m.\u001b[0m\u001b[0mogrext\u001b[0m \u001b[1;32mimport\u001b[0m \u001b[0m_listlayers\u001b[0m\u001b[1;33m,\u001b[0m \u001b[0mFIELD_TYPES_MAP\u001b[0m\u001b[1;33m\u001b[0m\u001b[0m\n",
        "\u001b[1;32m/home/choct155/analysis/Anaconda/lib/python2.7/site-packages/Fiona-1.0.2-py2.7-linux-x86_64.egg/fiona/collection.py\u001b[0m in \u001b[0;36m<module>\u001b[1;34m()\u001b[0m\n\u001b[0;32m      5\u001b[0m \u001b[1;32mimport\u001b[0m \u001b[0msys\u001b[0m\u001b[1;33m\u001b[0m\u001b[0m\n\u001b[0;32m      6\u001b[0m \u001b[1;33m\u001b[0m\u001b[0m\n\u001b[1;32m----> 7\u001b[1;33m \u001b[1;32mfrom\u001b[0m \u001b[0mfiona\u001b[0m\u001b[1;33m.\u001b[0m\u001b[0mogrext\u001b[0m \u001b[1;32mimport\u001b[0m \u001b[0mIterator\u001b[0m\u001b[1;33m,\u001b[0m \u001b[0mSession\u001b[0m\u001b[1;33m,\u001b[0m \u001b[0mWritingSession\u001b[0m\u001b[1;33m\u001b[0m\u001b[0m\n\u001b[0m\u001b[0;32m      8\u001b[0m \u001b[1;32mfrom\u001b[0m \u001b[0mfiona\u001b[0m\u001b[1;33m.\u001b[0m\u001b[0merrors\u001b[0m \u001b[1;32mimport\u001b[0m \u001b[0mDriverError\u001b[0m\u001b[1;33m,\u001b[0m \u001b[0mSchemaError\u001b[0m\u001b[1;33m,\u001b[0m \u001b[0mCRSError\u001b[0m\u001b[1;33m\u001b[0m\u001b[0m\n\u001b[0;32m      9\u001b[0m \u001b[1;32mfrom\u001b[0m \u001b[0msix\u001b[0m \u001b[1;32mimport\u001b[0m \u001b[0mstring_types\u001b[0m\u001b[1;33m\u001b[0m\u001b[0m\n",
        "\u001b[1;31mImportError\u001b[0m: /usr/lib/libgdal.so.1: undefined symbol: sqlite3_column_table_name"
       ]
      }
     ],
     "prompt_number": 123
    },
    {
     "cell_type": "code",
     "collapsed": false,
     "input": [
      "import fiona"
     ],
     "language": "python",
     "metadata": {},
     "outputs": [
      {
       "ename": "ImportError",
       "evalue": "/usr/lib/libgdal.so.1: undefined symbol: sqlite3_column_table_name",
       "output_type": "pyerr",
       "traceback": [
        "\u001b[1;31m---------------------------------------------------------------------------\u001b[0m\n\u001b[1;31mImportError\u001b[0m                               Traceback (most recent call last)",
        "\u001b[1;32m<ipython-input-124-cc872b235141>\u001b[0m in \u001b[0;36m<module>\u001b[1;34m()\u001b[0m\n\u001b[1;32m----> 1\u001b[1;33m \u001b[1;32mimport\u001b[0m \u001b[0mfiona\u001b[0m\u001b[1;33m\u001b[0m\u001b[0m\n\u001b[0m",
        "\u001b[1;32m/home/choct155/analysis/Anaconda/lib/python2.7/site-packages/Fiona-1.0.2-py2.7-linux-x86_64.egg/fiona/__init__.py\u001b[0m in \u001b[0;36m<module>\u001b[1;34m()\u001b[0m\n\u001b[0;32m     69\u001b[0m \u001b[1;32mfrom\u001b[0m \u001b[0msix\u001b[0m \u001b[1;32mimport\u001b[0m \u001b[0mstring_types\u001b[0m\u001b[1;33m\u001b[0m\u001b[0m\n\u001b[0;32m     70\u001b[0m \u001b[1;33m\u001b[0m\u001b[0m\n\u001b[1;32m---> 71\u001b[1;33m \u001b[1;32mfrom\u001b[0m \u001b[0mfiona\u001b[0m\u001b[1;33m.\u001b[0m\u001b[0mcollection\u001b[0m \u001b[1;32mimport\u001b[0m \u001b[0mCollection\u001b[0m\u001b[1;33m,\u001b[0m \u001b[0msupported_drivers\u001b[0m\u001b[1;33m,\u001b[0m \u001b[0mvsi_path\u001b[0m\u001b[1;33m\u001b[0m\u001b[0m\n\u001b[0m\u001b[0;32m     72\u001b[0m \u001b[1;32mfrom\u001b[0m \u001b[0mfiona\u001b[0m\u001b[1;33m.\u001b[0m\u001b[0modict\u001b[0m \u001b[1;32mimport\u001b[0m \u001b[0mOrderedDict\u001b[0m\u001b[1;33m\u001b[0m\u001b[0m\n\u001b[0;32m     73\u001b[0m \u001b[1;32mfrom\u001b[0m \u001b[0mfiona\u001b[0m\u001b[1;33m.\u001b[0m\u001b[0mogrext\u001b[0m \u001b[1;32mimport\u001b[0m \u001b[0m_listlayers\u001b[0m\u001b[1;33m,\u001b[0m \u001b[0mFIELD_TYPES_MAP\u001b[0m\u001b[1;33m\u001b[0m\u001b[0m\n",
        "\u001b[1;32m/home/choct155/analysis/Anaconda/lib/python2.7/site-packages/Fiona-1.0.2-py2.7-linux-x86_64.egg/fiona/collection.py\u001b[0m in \u001b[0;36m<module>\u001b[1;34m()\u001b[0m\n\u001b[0;32m      5\u001b[0m \u001b[1;32mimport\u001b[0m \u001b[0msys\u001b[0m\u001b[1;33m\u001b[0m\u001b[0m\n\u001b[0;32m      6\u001b[0m \u001b[1;33m\u001b[0m\u001b[0m\n\u001b[1;32m----> 7\u001b[1;33m \u001b[1;32mfrom\u001b[0m \u001b[0mfiona\u001b[0m\u001b[1;33m.\u001b[0m\u001b[0mogrext\u001b[0m \u001b[1;32mimport\u001b[0m \u001b[0mIterator\u001b[0m\u001b[1;33m,\u001b[0m \u001b[0mSession\u001b[0m\u001b[1;33m,\u001b[0m \u001b[0mWritingSession\u001b[0m\u001b[1;33m\u001b[0m\u001b[0m\n\u001b[0m\u001b[0;32m      8\u001b[0m \u001b[1;32mfrom\u001b[0m \u001b[0mfiona\u001b[0m\u001b[1;33m.\u001b[0m\u001b[0merrors\u001b[0m \u001b[1;32mimport\u001b[0m \u001b[0mDriverError\u001b[0m\u001b[1;33m,\u001b[0m \u001b[0mSchemaError\u001b[0m\u001b[1;33m,\u001b[0m \u001b[0mCRSError\u001b[0m\u001b[1;33m\u001b[0m\u001b[0m\n\u001b[0;32m      9\u001b[0m \u001b[1;32mfrom\u001b[0m \u001b[0msix\u001b[0m \u001b[1;32mimport\u001b[0m \u001b[0mstring_types\u001b[0m\u001b[1;33m\u001b[0m\u001b[0m\n",
        "\u001b[1;31mImportError\u001b[0m: /usr/lib/libgdal.so.1: undefined symbol: sqlite3_column_table_name"
       ]
      }
     ],
     "prompt_number": 124
    }
   ],
   "metadata": {}
  }
 ]
}