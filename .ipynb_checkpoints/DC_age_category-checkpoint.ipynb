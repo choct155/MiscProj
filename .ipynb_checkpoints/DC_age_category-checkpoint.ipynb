{
 "metadata": {
  "name": ""
 },
 "nbformat": 3,
 "nbformat_minor": 0,
 "worksheets": [
  {
   "cells": [
    {
     "cell_type": "heading",
     "level": 1,
     "metadata": {},
     "source": [
      "Creating Age Categories for DC Neighborhoods via the [CartoDB API](http://developers.cartodb.com/documentation/sql-api.html)"
     ]
    },
    {
     "cell_type": "markdown",
     "metadata": {},
     "source": [
      "We have captured age and sex information by [Census block group](http://en.wikipedia.org/wiki/Census_block_group) and aggregated these counts to larger neighborhoods designed to roughly resemble the planning areas identified by the [DC Office of Planning](http://planning.dc.gov/DC/Planning) in the [comprehensive planning](http://planning.dc.gov/DC/Planning/Across+the+City/Comprehensive+Plan).  There are many age buckets that vary in the number of years they cover.  The sheer number is too much to process when evaluating spatial distributions in [choropleth maps](http://en.wikipedia.org/wiki/Choropleth_map).  To facilitate the processing of this information in a *generally* meaningful manner, we can reduce the dimensionality of this data by consolidating buckets.  This script will aggregate counts by neighborhood into three groups:\n",
      "\n",
      "1. Youth (Under 18);\n",
      "2. Labor Force (18-64); and,\n",
      "3. Senior (65 and over)\n",
      "\n",
      "We can then compare just three choropleths, and the age distribution (from a taxation perspective) can more readily be digested.  Given the public nature of this information, the visual display of this information will be generated via [CartoDB](http://cartodb.com/).  (That being said, we are working with geographies of a sufficient side to provide cover for aggregated tax data.)  The data, collected via the 2008-2012 5-Year sample of the [American Community Survey](https://www.census.gov/acs/www/), are already housed in an online geodatabase maintained by CartoDB.  \n",
      "\n",
      "The desired age categories do not yet exist.  This script is designed to calculate these aggregates.  The operation employs [PostgreSQL](http://www.postgresql.org/) calls to the [CartoDB API](http://developers.cartodb.com/documentation/sql-api.html) to create and populate the needed fields."
     ]
    },
    {
     "cell_type": "code",
     "collapsed": false,
     "input": [
      "#Basic data manipulation\n",
      "import numpy as np\n",
      "import pandas as pd\n",
      "from pandas import Series, DataFrame\n",
      "\n",
      "#CartoDB\n",
      "from cartodb import CartoDBAPIKey, CartoDBException"
     ],
     "language": "python",
     "metadata": {},
     "outputs": [
      {
       "output_type": "stream",
       "stream": "stderr",
       "text": [
        "/home/choct155/analysis/Anaconda/lib/python2.7/site-packages/pytz/__init__.py:35: UserWarning: Module argparse was already imported from /home/choct155/analysis/Anaconda/lib/python2.7/argparse.pyc, but /home/choct155/analysis/Anaconda/lib/python2.7/site-packages is being added to sys.path\n",
        "  from pkg_resources import resource_stream\n"
       ]
      }
     ],
     "prompt_number": 1
    },
    {
     "cell_type": "markdown",
     "metadata": {},
     "source": [
      "Before we can proceed, we must provide the proper credentials."
     ]
    },
    {
     "cell_type": "code",
     "collapsed": false,
     "input": [
      "#Set credentials\n",
      "user='choct155@gmail.com'\n",
      "API_KEY='903fbe9b419ead3e196db9bbb9e75bf448bb1b1a'\n",
      "cartodb_domain='choct155'\n",
      "\n",
      "#Instantiate authorization object\n",
      "cdb=CartoDBAPIKey(API_KEY,cartodb_domain)"
     ],
     "language": "python",
     "metadata": {},
     "outputs": [],
     "prompt_number": 2
    },
    {
     "cell_type": "heading",
     "level": 2,
     "metadata": {},
     "source": [
      "Query Components of Calculation"
     ]
    },
    {
     "cell_type": "markdown",
     "metadata": {},
     "source": [
      "Unlike the operations in *CartoDB_api*, this script will generate new columns based upon pre-existing data.  Consequently, we need to query the existing table to pull the relevant information.  The data are housed in a table called [dcdem_by_area](https://choct155.cartodb.com/tables/dcdem_by_area/)."
     ]
    },
    {
     "cell_type": "code",
     "collapsed": false,
     "input": [
      "try:\n",
      "    nbhds=cdb.sql('select * from dcdem_by_area')\n",
      "except CartoDBException as e:\n",
      "    print ('Some error has occurred',e)\n",
      "    \n",
      "nbhds.keys()"
     ],
     "language": "python",
     "metadata": {},
     "outputs": [
      {
       "metadata": {},
       "output_type": "pyout",
       "prompt_number": 3,
       "text": [
        "[u'fields', u'rows', u'total_rows', u'time']"
       ]
      }
     ],
     "prompt_number": 3
    },
    {
     "cell_type": "markdown",
     "metadata": {},
     "source": [
      "Let us examine the attribute data."
     ]
    },
    {
     "cell_type": "code",
     "collapsed": false,
     "input": [
      "#Identify desired fields\n",
      "desired_fields=[x for x in nbhds['fields'] if 'geom' not in x]\n",
      "\n",
      "#Create container for attribute data\n",
      "data_list=[]\n",
      "\n",
      "#For each county (aka - row)...\n",
      "for nbhd in nbhds['rows']:\n",
      "    #...create a container for row-specific data...\n",
      "    row_list=[]\n",
      "    #...for each desired field...\n",
      "    for fld in desired_fields:\n",
      "        #...populate the row-specific list with said field...\n",
      "        row_list.append(nbhd[fld])\n",
      "    #...and throw all filled row-specific lists into data_list\n",
      "    data_list.append(row_list)\n",
      "\n",
      "#Generate DF from data_list\n",
      "nbhd_attr=DataFrame(data_list,columns=desired_fields)\n",
      "\n",
      "print nbhd_attr.info()\n",
      "sorted(nbhd_attr.columns)"
     ],
     "language": "python",
     "metadata": {},
     "outputs": [
      {
       "output_type": "stream",
       "stream": "stdout",
       "text": [
        "<class 'pandas.core.frame.DataFrame'>\n",
        "Int64Index: 10 entries, 0 to 9\n",
        "Data columns (total 32 columns):\n",
        "_15_to_17_years       10 non-null int64\n",
        "under_5_years         10 non-null int64\n",
        "labels                10 non-null object\n",
        "_70_to_74_years       10 non-null int64\n",
        "_5_to_9_years         10 non-null int64\n",
        "_50_to_54_years       10 non-null int64\n",
        "female                10 non-null int64\n",
        "_20_years             10 non-null int64\n",
        "_18_and_19_years      10 non-null int64\n",
        "_80_to_84_years       10 non-null int64\n",
        "total                 10 non-null int64\n",
        "_30_to_34_years       10 non-null int64\n",
        "area                  10 non-null int64\n",
        "_25_to_29_years       10 non-null int64\n",
        "_65_and_66_years      10 non-null int64\n",
        "_55_to_59_years       10 non-null int64\n",
        "_60_and_61_years      10 non-null int64\n",
        "_10_to_14_years       10 non-null int64\n",
        "_85_years_and_over    10 non-null int64\n",
        "_35_to_39_years       10 non-null int64\n",
        "_75_to_79_years       10 non-null int64\n",
        "_67_to_69_years       10 non-null int64\n",
        "cartodb_id            10 non-null int64\n",
        "updated_at            10 non-null object\n",
        "_40_to_44_years       10 non-null int64\n",
        "_62_to_64_years       10 non-null int64\n",
        "_21_years             10 non-null int64\n",
        "name                  10 non-null object\n",
        "created_at            10 non-null object\n",
        "_45_to_49_years       10 non-null int64\n",
        "_22_to_24_years       10 non-null int64\n",
        "male                  10 non-null int64\n",
        "dtypes: int64(28), object(4)None\n"
       ]
      },
      {
       "metadata": {},
       "output_type": "pyout",
       "prompt_number": 11,
       "text": [
        "[u'_10_to_14_years',\n",
        " u'_15_to_17_years',\n",
        " u'_18_and_19_years',\n",
        " u'_20_years',\n",
        " u'_21_years',\n",
        " u'_22_to_24_years',\n",
        " u'_25_to_29_years',\n",
        " u'_30_to_34_years',\n",
        " u'_35_to_39_years',\n",
        " u'_40_to_44_years',\n",
        " u'_45_to_49_years',\n",
        " u'_50_to_54_years',\n",
        " u'_55_to_59_years',\n",
        " u'_5_to_9_years',\n",
        " u'_60_and_61_years',\n",
        " u'_62_to_64_years',\n",
        " u'_65_and_66_years',\n",
        " u'_67_to_69_years',\n",
        " u'_70_to_74_years',\n",
        " u'_75_to_79_years',\n",
        " u'_80_to_84_years',\n",
        " u'_85_years_and_over',\n",
        " u'area',\n",
        " u'cartodb_id',\n",
        " u'created_at',\n",
        " u'female',\n",
        " u'labels',\n",
        " u'male',\n",
        " u'name',\n",
        " u'total',\n",
        " u'under_5_years',\n",
        " u'updated_at']"
       ]
      }
     ],
     "prompt_number": 11
    },
    {
     "cell_type": "markdown",
     "metadata": {},
     "source": [
      "We will group the age bins in the following manner:\n",
      "\n",
      "+ **YOUTH**: `['under_5_years', '_5_to_9_years', '_10_to_14_years', '_15_to_17_years']`\n",
      "+ **LABOR FORCE**: `['_18_and_19_years', '_20_years', '_21_years', '_22_to_24_years', '_25_to_29_years', '_30_to_34_years', '_35_to_39_years', '_40_to_44_years', '_45_to_49_years', '_50_to_54_years', '_55_to_59_years',  '_60_and_61_years', '_62_to_64_years']`\n",
      "+ **SENIOR**: `['_65_and_66_years', '_67_to_69_years', '_70_to_74_years', '_75_to_79_years', '_80_to_84_years', '_85_years_and_over']`"
     ]
    },
    {
     "cell_type": "code",
     "collapsed": false,
     "input": [
      "#Define aggregation lists\n",
      "youth=['under_5_years', '_5_to_9_years', '_10_to_14_years', '_15_to_17_years']\n",
      "labor=['_18_and_19_years', '_20_years', '_21_years', '_22_to_24_years', '_25_to_29_years', \\\n",
      "       '_30_to_34_years', '_35_to_39_years', '_40_to_44_years', '_45_to_49_years', '_50_to_54_years', \\\n",
      "       '_55_to_59_years', '_60_and_61_years', '_62_to_64_years']\n",
      "senior=['_65_and_66_years', '_67_to_69_years', '_70_to_74_years', '_75_to_79_years', '_80_to_84_years', '_85_years_and_over']\n",
      "\n",
      "#Aggregate counts across sets\n",
      "nbhd_attr['Youth']=nbhd_attr[youth].sum(axis='columns')\n",
      "nbhd_attr['Labor']=nbhd_attr[labor].sum(axis='columns')\n",
      "nbhd_attr['Senior']=nbhd_attr[senior].sum(axis='columns')\n",
      "\n",
      "nbhd_attr[['labels','male','female','total','Youth','Labor','Senior']]"
     ],
     "language": "python",
     "metadata": {},
     "outputs": [
      {
       "html": [
        "<div style=\"max-height:1000px;max-width:1500px;overflow:auto;\">\n",
        "<table border=\"1\" class=\"dataframe\">\n",
        "  <thead>\n",
        "    <tr style=\"text-align: right;\">\n",
        "      <th></th>\n",
        "      <th>labels</th>\n",
        "      <th>male</th>\n",
        "      <th>female</th>\n",
        "      <th>total</th>\n",
        "      <th>Youth</th>\n",
        "      <th>Labor</th>\n",
        "      <th>Senior</th>\n",
        "    </tr>\n",
        "  </thead>\n",
        "  <tbody>\n",
        "    <tr>\n",
        "      <th>0</th>\n",
        "      <td>      Rock Creek (E)</td>\n",
        "      <td> 33861</td>\n",
        "      <td> 37501</td>\n",
        "      <td> 71362</td>\n",
        "      <td> 13620</td>\n",
        "      <td> 47095</td>\n",
        "      <td> 10647</td>\n",
        "    </tr>\n",
        "    <tr>\n",
        "      <th>1</th>\n",
        "      <td>      Rock Creek (W)</td>\n",
        "      <td> 39367</td>\n",
        "      <td> 47908</td>\n",
        "      <td> 87275</td>\n",
        "      <td> 12601</td>\n",
        "      <td> 60735</td>\n",
        "      <td> 13939</td>\n",
        "    </tr>\n",
        "    <tr>\n",
        "      <th>2</th>\n",
        "      <td>            Mid-City</td>\n",
        "      <td> 41389</td>\n",
        "      <td> 42971</td>\n",
        "      <td> 84360</td>\n",
        "      <td> 10367</td>\n",
        "      <td> 68091</td>\n",
        "      <td>  5902</td>\n",
        "    </tr>\n",
        "    <tr>\n",
        "      <th>3</th>\n",
        "      <td>     Near\\nNorthwest</td>\n",
        "      <td> 38057</td>\n",
        "      <td> 36637</td>\n",
        "      <td> 74694</td>\n",
        "      <td>  5571</td>\n",
        "      <td> 62435</td>\n",
        "      <td>  6688</td>\n",
        "    </tr>\n",
        "    <tr>\n",
        "      <th>4</th>\n",
        "      <td>            Far East</td>\n",
        "      <td> 31035</td>\n",
        "      <td> 39966</td>\n",
        "      <td> 71001</td>\n",
        "      <td> 18013</td>\n",
        "      <td> 43188</td>\n",
        "      <td>  9800</td>\n",
        "    </tr>\n",
        "    <tr>\n",
        "      <th>5</th>\n",
        "      <td> Central\\nWashington</td>\n",
        "      <td> 11650</td>\n",
        "      <td> 12025</td>\n",
        "      <td> 23675</td>\n",
        "      <td>  1760</td>\n",
        "      <td> 19791</td>\n",
        "      <td>  2124</td>\n",
        "    </tr>\n",
        "    <tr>\n",
        "      <th>6</th>\n",
        "      <td>           Far South</td>\n",
        "      <td> 29298</td>\n",
        "      <td> 36290</td>\n",
        "      <td> 65588</td>\n",
        "      <td> 20781</td>\n",
        "      <td> 40512</td>\n",
        "      <td>  4295</td>\n",
        "    </tr>\n",
        "    <tr>\n",
        "      <th>7</th>\n",
        "      <td>    Upper\\nNortheast</td>\n",
        "      <td> 28618</td>\n",
        "      <td> 32736</td>\n",
        "      <td> 61354</td>\n",
        "      <td> 11788</td>\n",
        "      <td> 40340</td>\n",
        "      <td>  9226</td>\n",
        "    </tr>\n",
        "    <tr>\n",
        "      <th>8</th>\n",
        "      <td>       SW Waterfront</td>\n",
        "      <td>  6952</td>\n",
        "      <td>  7777</td>\n",
        "      <td> 14729</td>\n",
        "      <td>  2044</td>\n",
        "      <td> 10782</td>\n",
        "      <td>  1903</td>\n",
        "    </tr>\n",
        "    <tr>\n",
        "      <th>9</th>\n",
        "      <td>       Capitol\\nHill</td>\n",
        "      <td> 26200</td>\n",
        "      <td> 25521</td>\n",
        "      <td> 51721</td>\n",
        "      <td>  7441</td>\n",
        "      <td> 39759</td>\n",
        "      <td>  4521</td>\n",
        "    </tr>\n",
        "  </tbody>\n",
        "</table>\n",
        "<p>10 rows \u00d7 7 columns</p>\n",
        "</div>"
       ],
       "metadata": {},
       "output_type": "pyout",
       "prompt_number": 19,
       "text": [
        "                labels   male  female  total  Youth  Labor  Senior\n",
        "0       Rock Creek (E)  33861   37501  71362  13620  47095   10647\n",
        "1       Rock Creek (W)  39367   47908  87275  12601  60735   13939\n",
        "2             Mid-City  41389   42971  84360  10367  68091    5902\n",
        "3      Near\\nNorthwest  38057   36637  74694   5571  62435    6688\n",
        "4             Far East  31035   39966  71001  18013  43188    9800\n",
        "5  Central\\nWashington  11650   12025  23675   1760  19791    2124\n",
        "6            Far South  29298   36290  65588  20781  40512    4295\n",
        "7     Upper\\nNortheast  28618   32736  61354  11788  40340    9226\n",
        "8        SW Waterfront   6952    7777  14729   2044  10782    1903\n",
        "9        Capitol\\nHill  26200   25521  51721   7441  39759    4521\n",
        "\n",
        "[10 rows x 7 columns]"
       ]
      }
     ],
     "prompt_number": 19
    },
    {
     "cell_type": "heading",
     "level": 2,
     "metadata": {},
     "source": [
      "Table Update"
     ]
    },
    {
     "cell_type": "markdown",
     "metadata": {},
     "source": [
      "Now we must 1) generate new fields, and 2) populate said fields with our newly calculate data.  First, the new fields..."
     ]
    },
    {
     "cell_type": "code",
     "collapsed": false,
     "input": [
      "try:\n",
      "    nbhds=cdb.sql('alter table dcdem_by_area add Youth real')\n",
      "except CartoDBException as e:\n",
      "    print ('Some error has occurred',e)\n",
      "    \n",
      "try:\n",
      "    nbhds=cdb.sql('alter table dcdem_by_area add Labor real')\n",
      "except CartoDBException as e:\n",
      "    print ('Some error has occurred',e)\n",
      "    \n",
      "try:\n",
      "    nbhds=cdb.sql('alter table dcdem_by_area add Senior real')\n",
      "except CartoDBException as e:\n",
      "    print ('Some error has occurred',e)"
     ],
     "language": "python",
     "metadata": {},
     "outputs": [],
     "prompt_number": 17
    },
    {
     "cell_type": "markdown",
     "metadata": {},
     "source": [
      "...and now the data."
     ]
    },
    {
     "cell_type": "code",
     "collapsed": false,
     "input": [
      "#For each new variable...\n",
      "for col in ['Youth','Labor','Senior']:\n",
      "    #Create string version of data\n",
      "    data_str=[str(x) for x in list(nbhd_attr[col])]\n",
      "    \n",
      "    #Create a dictionary\n",
      "    data_dict=dict(zip(nbhd_attr['cartodb_id'],data_str))\n",
      "    \n",
      "    #Feed data into new variable in dcdem_by_area\n",
      "    for row in data_dict.keys():\n",
      "        try:\n",
      "            nbhds=cdb.sql('update dcdem_by_area set '+col+' = '+data_dict[row]+' where cartodb_id = '+str(row))\n",
      "        except CartoDBException as e:\n",
      "            print ('Some error has occurred',e)"
     ],
     "language": "python",
     "metadata": {},
     "outputs": [],
     "prompt_number": 20
    },
    {
     "cell_type": "markdown",
     "metadata": {},
     "source": [
      "Mission accomplished."
     ]
    }
   ],
   "metadata": {}
  }
 ]
}