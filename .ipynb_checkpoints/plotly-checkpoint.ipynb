{
 "metadata": {
  "name": ""
 },
 "nbformat": 3,
 "nbformat_minor": 0,
 "worksheets": [
  {
   "cells": [
    {
     "cell_type": "heading",
     "level": 1,
     "metadata": {},
     "source": [
      "[plot.ly](https://plot.ly/) Demo"
     ]
    },
    {
     "cell_type": "markdown",
     "metadata": {},
     "source": [
      "plot.ly has somewhat recently revealed the capability to embed interactive charts in the [IPython Notebook](http://ipython.org/notebook.html).  In an effort to work this into the toolset, this Notebook just follows along with the [intro](https://plot.ly/api/python/getting-started) on the website.  "
     ]
    },
    {
     "cell_type": "code",
     "collapsed": false,
     "input": [
      "import numpy as np\n",
      "import pandas as pd\n",
      "from pandas import Series, DataFrame\n",
      "import pandas.io.data as web\n",
      "import plotly\n",
      "plotly.__version__"
     ],
     "language": "python",
     "metadata": {},
     "outputs": [
      {
       "metadata": {},
       "output_type": "pyout",
       "prompt_number": 62,
       "text": [
        "'0.5.7'"
       ]
      }
     ],
     "prompt_number": 62
    },
    {
     "cell_type": "markdown",
     "metadata": {},
     "source": [
      "Utilization of the plot.ly infrastructure requires making calls to the plot.ly directly.  Consequently, we must verify that we have signed up, and provide our API key."
     ]
    },
    {
     "cell_type": "code",
     "collapsed": false,
     "input": [
      "#Authenticate\n",
      "py = plotly.plotly(\"choct155\", \"v62ri2iink\")"
     ],
     "language": "python",
     "metadata": {},
     "outputs": [],
     "prompt_number": 3
    },
    {
     "cell_type": "markdown",
     "metadata": {},
     "source": [
      "In the intro, plot.ly developers capture [Hans Rosling's](http://en.wikipedia.org/wiki/Hans_Rosling) bubble chart data set featuring life expectancy and GDP per capita by country.  They implement this process using the [urllib2](http://docs.python.org/2/library/urllib2.html), [StringIO](http://docs.python.org/2.6/library/stringio.html), and [csv](http://docs.python.org/2/library/csv.html).  This is all well and good, but it's a fairly irrelevant approach for me.  I am a heavy [pandas](http://pandas.pydata.org/) user (and advocate), so it makes sense to figure out the workflow from this angle."
     ]
    },
    {
     "cell_type": "code",
     "collapsed": false,
     "input": [
      "#Establish data location\n",
      "data_loc='https://gist.github.com/chriddyp/8818473/raw/d8c73ff66a190a84eb8c6c19df4d8865673234ca/2007gapminder.csv'\n",
      "\n",
      "#Read in data\n",
      "hans_temp=pd.read_csv(data_loc,error_bad_lines=False)\n",
      "\n",
      "hans_temp.ix[110:120]"
     ],
     "language": "python",
     "metadata": {},
     "outputs": [
      {
       "output_type": "stream",
       "stream": "stderr",
       "text": [
        "Skipping line 119: expected 5 fields, saw 6\n",
        "\n"
       ]
      },
      {
       "html": [
        "<div style=\"max-height:1000px;max-width:1500px;overflow:auto;\">\n",
        "<table border=\"1\" class=\"dataframe\">\n",
        "  <thead>\n",
        "    <tr style=\"text-align: right;\">\n",
        "      <th></th>\n",
        "      <th>Country</th>\n",
        "      <th>Population</th>\n",
        "      <th>Continent</th>\n",
        "      <th>lifeExp</th>\n",
        "      <th>gdpPercap</th>\n",
        "    </tr>\n",
        "  </thead>\n",
        "  <tbody>\n",
        "    <tr>\n",
        "      <th>110</th>\n",
        "      <td>         Senegal</td>\n",
        "      <td> 12267493</td>\n",
        "      <td> Africa</td>\n",
        "      <td> 63.062</td>\n",
        "      <td>  1712.472136</td>\n",
        "    </tr>\n",
        "    <tr>\n",
        "      <th>111</th>\n",
        "      <td>          Serbia</td>\n",
        "      <td> 10150265</td>\n",
        "      <td> Europe</td>\n",
        "      <td> 74.002</td>\n",
        "      <td>  9786.534714</td>\n",
        "    </tr>\n",
        "    <tr>\n",
        "      <th>112</th>\n",
        "      <td>    Sierra Leone</td>\n",
        "      <td>  6144562</td>\n",
        "      <td> Africa</td>\n",
        "      <td> 42.568</td>\n",
        "      <td>   862.540756</td>\n",
        "    </tr>\n",
        "    <tr>\n",
        "      <th>113</th>\n",
        "      <td>       Singapore</td>\n",
        "      <td>  4553009</td>\n",
        "      <td>   Asia</td>\n",
        "      <td> 79.972</td>\n",
        "      <td> 47143.179640</td>\n",
        "    </tr>\n",
        "    <tr>\n",
        "      <th>114</th>\n",
        "      <td> Slovak Republic</td>\n",
        "      <td>  5447502</td>\n",
        "      <td> Europe</td>\n",
        "      <td> 74.663</td>\n",
        "      <td> 18678.314350</td>\n",
        "    </tr>\n",
        "    <tr>\n",
        "      <th>115</th>\n",
        "      <td>        Slovenia</td>\n",
        "      <td>  2009245</td>\n",
        "      <td> Europe</td>\n",
        "      <td> 77.926</td>\n",
        "      <td> 25768.257590</td>\n",
        "    </tr>\n",
        "    <tr>\n",
        "      <th>116</th>\n",
        "      <td>         Somalia</td>\n",
        "      <td>  9118773</td>\n",
        "      <td> Africa</td>\n",
        "      <td> 48.159</td>\n",
        "      <td>   926.141068</td>\n",
        "    </tr>\n",
        "    <tr>\n",
        "      <th>117</th>\n",
        "      <td>           Spain</td>\n",
        "      <td> 40448191</td>\n",
        "      <td> Europe</td>\n",
        "      <td> 80.941</td>\n",
        "      <td> 28821.063700</td>\n",
        "    </tr>\n",
        "    <tr>\n",
        "      <th>118</th>\n",
        "      <td>       Sri Lanka</td>\n",
        "      <td> 20378239</td>\n",
        "      <td>   Asia</td>\n",
        "      <td> 72.396</td>\n",
        "      <td>  3970.095407</td>\n",
        "    </tr>\n",
        "    <tr>\n",
        "      <th>119</th>\n",
        "      <td>           Sudan</td>\n",
        "      <td> 42292929</td>\n",
        "      <td> Africa</td>\n",
        "      <td> 58.556</td>\n",
        "      <td>  2602.394995</td>\n",
        "    </tr>\n",
        "    <tr>\n",
        "      <th>120</th>\n",
        "      <td>       Swaziland</td>\n",
        "      <td>  1133066</td>\n",
        "      <td> Africa</td>\n",
        "      <td> 39.613</td>\n",
        "      <td>  4513.480643</td>\n",
        "    </tr>\n",
        "  </tbody>\n",
        "</table>\n",
        "<p>11 rows \u00d7 5 columns</p>\n",
        "</div>"
       ],
       "metadata": {},
       "output_type": "pyout",
       "prompt_number": 26,
       "text": [
        "             Country  Population Continent  lifeExp     gdpPercap\n",
        "110          Senegal    12267493    Africa   63.062   1712.472136\n",
        "111           Serbia    10150265    Europe   74.002   9786.534714\n",
        "112     Sierra Leone     6144562    Africa   42.568    862.540756\n",
        "113        Singapore     4553009      Asia   79.972  47143.179640\n",
        "114  Slovak Republic     5447502    Europe   74.663  18678.314350\n",
        "115         Slovenia     2009245    Europe   77.926  25768.257590\n",
        "116          Somalia     9118773    Africa   48.159    926.141068\n",
        "117            Spain    40448191    Europe   80.941  28821.063700\n",
        "118        Sri Lanka    20378239      Asia   72.396   3970.095407\n",
        "119            Sudan    42292929    Africa   58.556   2602.394995\n",
        "120        Swaziland     1133066    Africa   39.613   4513.480643\n",
        "\n",
        "[11 rows x 5 columns]"
       ]
      }
     ],
     "prompt_number": 26
    },
    {
     "cell_type": "markdown",
     "metadata": {},
     "source": [
      "It turns out that there is a problem with line 119.  We use the `error_bad_lines=True` parameter value to skip these lines while returning a warning that alerts us to the location of the problem.  There is only one problematic row, so we could manually fix this issue by downloading the data and fixing the problem.  Alternatively, we could just update the DataFrame with the proper information.  Inspection of the above link to Rosling's data in the neighborhood of the 119th row reveals an error with South Africa.  It turns out there is an extra comma that splits the country's name.  \n",
      "\n",
      "    South,Africa,43997828,Africa,49.339,9269.657808\n",
      "    \n",
      "These data can be fit to a standalone DF and concatenated onto the original."
     ]
    },
    {
     "cell_type": "code",
     "collapsed": false,
     "input": [
      "#Create extra row as Series\n",
      "bad_row=Series({'Country':'South Africa',\n",
      "                   'Population':43997828,\n",
      "                   'Continent':'Africa',\n",
      "                   'lifeExp':49.339,\n",
      "                   'gdpPercap':9269.657808})\n",
      "\n",
      "#Concatenate transpose of Series onto the end of hans_temp, sort, and set Continent to index\n",
      "hans=pd.concat([hans_temp,DataFrame(bad_row).T]).sort(columns='Country').set_index('Continent')\n",
      "\n",
      "hans.ix[115:125]"
     ],
     "language": "python",
     "metadata": {},
     "outputs": [
      {
       "html": [
        "<div style=\"max-height:1000px;max-width:1500px;overflow:auto;\">\n",
        "<table border=\"1\" class=\"dataframe\">\n",
        "  <thead>\n",
        "    <tr style=\"text-align: right;\">\n",
        "      <th></th>\n",
        "      <th>Country</th>\n",
        "      <th>Population</th>\n",
        "      <th>gdpPercap</th>\n",
        "      <th>lifeExp</th>\n",
        "    </tr>\n",
        "    <tr>\n",
        "      <th>Continent</th>\n",
        "      <th></th>\n",
        "      <th></th>\n",
        "      <th></th>\n",
        "      <th></th>\n",
        "    </tr>\n",
        "  </thead>\n",
        "  <tbody>\n",
        "    <tr>\n",
        "      <th>Europe</th>\n",
        "      <td>     Slovenia</td>\n",
        "      <td>  2009245</td>\n",
        "      <td> 25768.26</td>\n",
        "      <td> 77.926</td>\n",
        "    </tr>\n",
        "    <tr>\n",
        "      <th>Africa</th>\n",
        "      <td>      Somalia</td>\n",
        "      <td>  9118773</td>\n",
        "      <td> 926.1411</td>\n",
        "      <td> 48.159</td>\n",
        "    </tr>\n",
        "    <tr>\n",
        "      <th>Africa</th>\n",
        "      <td> South Africa</td>\n",
        "      <td> 43997828</td>\n",
        "      <td> 9269.658</td>\n",
        "      <td> 49.339</td>\n",
        "    </tr>\n",
        "    <tr>\n",
        "      <th>Europe</th>\n",
        "      <td>        Spain</td>\n",
        "      <td> 40448191</td>\n",
        "      <td> 28821.06</td>\n",
        "      <td> 80.941</td>\n",
        "    </tr>\n",
        "    <tr>\n",
        "      <th>Asia</th>\n",
        "      <td>    Sri Lanka</td>\n",
        "      <td> 20378239</td>\n",
        "      <td> 3970.095</td>\n",
        "      <td> 72.396</td>\n",
        "    </tr>\n",
        "    <tr>\n",
        "      <th>Africa</th>\n",
        "      <td>        Sudan</td>\n",
        "      <td> 42292929</td>\n",
        "      <td> 2602.395</td>\n",
        "      <td> 58.556</td>\n",
        "    </tr>\n",
        "    <tr>\n",
        "      <th>Africa</th>\n",
        "      <td>    Swaziland</td>\n",
        "      <td>  1133066</td>\n",
        "      <td> 4513.481</td>\n",
        "      <td> 39.613</td>\n",
        "    </tr>\n",
        "    <tr>\n",
        "      <th>Europe</th>\n",
        "      <td>       Sweden</td>\n",
        "      <td>  9031088</td>\n",
        "      <td> 33859.75</td>\n",
        "      <td> 80.884</td>\n",
        "    </tr>\n",
        "    <tr>\n",
        "      <th>Europe</th>\n",
        "      <td>  Switzerland</td>\n",
        "      <td>  7554661</td>\n",
        "      <td> 37506.42</td>\n",
        "      <td> 81.701</td>\n",
        "    </tr>\n",
        "    <tr>\n",
        "      <th>Asia</th>\n",
        "      <td>        Syria</td>\n",
        "      <td> 19314747</td>\n",
        "      <td> 4184.548</td>\n",
        "      <td> 74.143</td>\n",
        "    </tr>\n",
        "  </tbody>\n",
        "</table>\n",
        "<p>10 rows \u00d7 4 columns</p>\n",
        "</div>"
       ],
       "metadata": {},
       "output_type": "pyout",
       "prompt_number": 38,
       "text": [
        "                Country Population gdpPercap lifeExp\n",
        "Continent                                           \n",
        "Europe         Slovenia    2009245  25768.26  77.926\n",
        "Africa          Somalia    9118773  926.1411  48.159\n",
        "Africa     South Africa   43997828  9269.658  49.339\n",
        "Europe            Spain   40448191  28821.06  80.941\n",
        "Asia          Sri Lanka   20378239  3970.095  72.396\n",
        "Africa            Sudan   42292929  2602.395  58.556\n",
        "Africa        Swaziland    1133066  4513.481  39.613\n",
        "Europe           Sweden    9031088  33859.75  80.884\n",
        "Europe      Switzerland    7554661  37506.42  81.701\n",
        "Asia              Syria   19314747  4184.548  74.143\n",
        "\n",
        "[10 rows x 4 columns]"
       ]
      }
     ],
     "prompt_number": 38
    },
    {
     "cell_type": "markdown",
     "metadata": {},
     "source": [
      "Now all is right with the world, so let us proceed.  plot.ly graphs are constructed from an array of dictionaries.  Each of these dictionaries describes a `series` (a.k.a. `trace`) we would like to plot.  In our case, each `series` will be a continent (this is the reason for setting the continent column to the index above).  This is a bubble plot, so each of these series needs the following set of attributes:\n",
      "\n",
      "+ $x$ is the GDP per capita\n",
      "+ $y$ is the life expectancy\n",
      "+ **`text`** captures the country name\n",
      "+ **`marker`** defines the attributes of the bubble\n",
      "    + *`size`* is based on the size of the population (specifically the square root in thousands)\n",
      "    + *`sizemode`* defines how size is represented (area in the case)\n",
      "    + *`sizeref`* indicates .... I don't what at this point\n",
      "    + *`opacity`* is akin to the `alpha` parameter in [matplotlib](http://matplotlib.org/)\n",
      "    \n",
      "We can build our graph data array in a loop.  Note that the dictionary inputs should be lists."
     ]
    },
    {
     "cell_type": "code",
     "collapsed": false,
     "input": [
      "#Create container for continent-specific dictionaries\n",
      "graph_data=[]\n",
      "\n",
      "#For each continent...\n",
      "for cont in set(hans.index):\n",
      "    #...define a continent-specific dictionary...\n",
      "    cont_dict={'name':cont,\n",
      "               'x':list(hans.ix[cont]['gdpPercap']),\n",
      "               'y':list(hans.ix[cont]['lifeExp']),\n",
      "               'text':list(hans.ix[cont]['Country']),\n",
      "               'type':'scatter',\n",
      "               'mode':'markers',\n",
      "               'marker':{'size':list(np.sqrt(list(hans.ix[cont]['Population']))/1000.),\n",
      "                         'sizemode':'area',\n",
      "                         'sizeref':.05,\n",
      "                         'opacity':.55\n",
      "                         }\n",
      "               }\n",
      "    #...and throw it in the list\n",
      "    graph_data.append(cont_dict)"
     ],
     "language": "python",
     "metadata": {},
     "outputs": [],
     "prompt_number": 56
    },
    {
     "cell_type": "markdown",
     "metadata": {},
     "source": [
      "Now we need to provide some layout information for the chart."
     ]
    },
    {
     "cell_type": "code",
     "collapsed": false,
     "input": [
      "layout = {'xaxis': {'title': 'GDP Per Capita'},\n",
      "          'yaxis': {'title': 'Life Expectancy'},\n",
      "          'title': 'Hans Rosling Bubble Chart (2007)'\n",
      "         }"
     ],
     "language": "python",
     "metadata": {},
     "outputs": [],
     "prompt_number": 74
    },
    {
     "cell_type": "markdown",
     "metadata": {},
     "source": [
      "Finally, let's plot this guy."
     ]
    },
    {
     "cell_type": "code",
     "collapsed": false,
     "input": [
      "py.plot(graph_data, layout=layout,filename='My first plotly graph', fileopt='overwrite',\\\n",
      "        world_readable=True, width=1000, height=650)"
     ],
     "language": "python",
     "metadata": {},
     "outputs": [
      {
       "output_type": "stream",
       "stream": "stdout",
       "text": [
        "High five! You successfuly sent some data to your account on plotly. View your plot in your browser at https://plot.ly/~choct155/0 or inside your plot.ly account where it is named 'My first plotly graph'\n"
       ]
      },
      {
       "metadata": {},
       "output_type": "pyout",
       "prompt_number": 75,
       "text": [
        "{u'error': u'',\n",
        " u'filename': u'My first plotly graph',\n",
        " u'message': u\"High five! You successfuly sent some data to your account on plotly. View your plot in your browser at https://plot.ly/~choct155/0 or inside your plot.ly account where it is named 'My first plotly graph'\",\n",
        " u'url': u'https://plot.ly/~choct155/0',\n",
        " u'warning': u''}"
       ]
      }
     ],
     "prompt_number": 75
    },
    {
     "cell_type": "markdown",
     "metadata": {},
     "source": [
      "For some reason, I am getting the following error:\n",
      "\n",
      "    XML Parsing Error: undefined entity Location: https://plot.ly/~choct155 Line Number 1, Column 109:\n",
      "    \n",
      "**UPDATE**:  The example on the plot.ly website had some problematic characters in the layout.  The original title was passed as the following string:\n",
      "\n",
      "    'Hans Rosling Bubble Chart&lft;br>2007'\n",
      "    \n",
      "Dropping the break characters did the trick.  Can we get it to work within the Notebook?"
     ]
    },
    {
     "cell_type": "code",
     "collapsed": false,
     "input": [
      "py.iplot(graph_data,layout=layout)"
     ],
     "language": "python",
     "metadata": {},
     "outputs": [
      {
       "html": [
        "<iframe height=\"500\" id=\"igraph\" scrolling=\"no\" seamless=\"seamless\" src=\"https://plot.ly/~choct155/9/600/450\" width=\"650\"></iframe>"
       ],
       "metadata": {},
       "output_type": "pyout",
       "prompt_number": 76,
       "text": [
        "<IPython.core.display.HTML at 0x3d6f750>"
       ]
      }
     ],
     "prompt_number": 76
    },
    {
     "cell_type": "markdown",
     "metadata": {},
     "source": [
      "We are good to go.  Let's try a different plotting example with boxplots."
     ]
    },
    {
     "cell_type": "code",
     "collapsed": false,
     "input": [
      "py.iplot([{'y': random.randn(5), 'type': 'box'} for i in range(50)], layout={'showlegend': False})"
     ],
     "language": "python",
     "metadata": {},
     "outputs": [
      {
       "html": [
        "<iframe height=\"500\" id=\"igraph\" scrolling=\"no\" seamless=\"seamless\" src=\"https://plot.ly/~choct155/2/600/450\" width=\"650\"></iframe>"
       ],
       "metadata": {},
       "output_type": "pyout",
       "prompt_number": 61,
       "text": [
        "<IPython.core.display.HTML at 0x3d896d0>"
       ]
      }
     ],
     "prompt_number": 61
    },
    {
     "cell_type": "markdown",
     "metadata": {},
     "source": [
      "So the plotting functions appear to work just fine.  Let's try it with some data I actually care about, health expenditures in the US over time."
     ]
    },
    {
     "cell_type": "code",
     "collapsed": false,
     "input": [
      "#Capture health expenditures\n",
      "hth_exp=web.get_data_fred('DHLCRC1Q027SBEA','1/1/1970','12/1/2013')\n",
      "\n",
      "#Capture GDP\n",
      "gdp=web.get_data_fred('GDP','1/1/1970','12/1/2013')\n",
      "\n",
      "#Combine health expenditure and GDP information\n",
      "hth_gdp=DataFrame(hth_exp).join(gdp)\n",
      "\n",
      "#Rename columns\n",
      "hth_gdp.columns=['hth','gdp']\n",
      "\n",
      "#Calculate health expenditure as % of GDP\n",
      "hth_gdp['hth_gdp']=hth_gdp['hth']/hth_gdp['gdp']\n",
      "\n",
      "hth_gdp.head()"
     ],
     "language": "python",
     "metadata": {},
     "outputs": [
      {
       "html": [
        "<div style=\"max-height:1000px;max-width:1500px;overflow:auto;\">\n",
        "<table border=\"1\" class=\"dataframe\">\n",
        "  <thead>\n",
        "    <tr style=\"text-align: right;\">\n",
        "      <th></th>\n",
        "      <th>hth</th>\n",
        "      <th>gdp</th>\n",
        "      <th>hth_gdp</th>\n",
        "    </tr>\n",
        "    <tr>\n",
        "      <th>DATE</th>\n",
        "      <th></th>\n",
        "      <th></th>\n",
        "      <th></th>\n",
        "    </tr>\n",
        "  </thead>\n",
        "  <tbody>\n",
        "    <tr>\n",
        "      <th>1970-01-01</th>\n",
        "      <td> 45.5</td>\n",
        "      <td> 1053.5</td>\n",
        "      <td> 0.043189</td>\n",
        "    </tr>\n",
        "    <tr>\n",
        "      <th>1970-04-01</th>\n",
        "      <td> 46.7</td>\n",
        "      <td> 1070.1</td>\n",
        "      <td> 0.043641</td>\n",
        "    </tr>\n",
        "    <tr>\n",
        "      <th>1970-07-01</th>\n",
        "      <td> 48.3</td>\n",
        "      <td> 1088.5</td>\n",
        "      <td> 0.044373</td>\n",
        "    </tr>\n",
        "    <tr>\n",
        "      <th>1970-10-01</th>\n",
        "      <td> 50.3</td>\n",
        "      <td> 1091.5</td>\n",
        "      <td> 0.046083</td>\n",
        "    </tr>\n",
        "    <tr>\n",
        "      <th>1971-01-01</th>\n",
        "      <td> 51.3</td>\n",
        "      <td> 1137.8</td>\n",
        "      <td> 0.045087</td>\n",
        "    </tr>\n",
        "  </tbody>\n",
        "</table>\n",
        "<p>5 rows \u00d7 3 columns</p>\n",
        "</div>"
       ],
       "metadata": {},
       "output_type": "pyout",
       "prompt_number": 65,
       "text": [
        "             hth     gdp   hth_gdp\n",
        "DATE                              \n",
        "1970-01-01  45.5  1053.5  0.043189\n",
        "1970-04-01  46.7  1070.1  0.043641\n",
        "1970-07-01  48.3  1088.5  0.044373\n",
        "1970-10-01  50.3  1091.5  0.046083\n",
        "1971-01-01  51.3  1137.8  0.045087\n",
        "\n",
        "[5 rows x 3 columns]"
       ]
      }
     ],
     "prompt_number": 65
    },
    {
     "cell_type": "code",
     "collapsed": false,
     "input": [
      "hth_exp_series={'x':list(hth_gdp.index),\n",
      "                'y':list(hth_gdp['hth']),\n",
      "                'fill':'tozeroy'}\n",
      "\n",
      "hth_layout = {'xaxis': {'title': 'Time'},\n",
      "              'yaxis': {'title': 'Health Expenditures ($B)'},\n",
      "              'title': 'Growth in Health Expenditures (1970-2013)'\n",
      "             }\n",
      "\n",
      "py.iplot(hth_exp_series,layout=hth_layout,width=1000,height=650,fileopt='overwrite')"
     ],
     "language": "python",
     "metadata": {},
     "outputs": [
      {
       "html": [
        "<iframe height=\"700\" id=\"igraph\" scrolling=\"no\" seamless=\"seamless\" src=\"https://plot.ly/~choct155/9/1000/650\" width=\"1050\"></iframe>"
       ],
       "metadata": {},
       "output_type": "pyout",
       "prompt_number": 85,
       "text": [
        "<IPython.core.display.HTML at 0x3cfd210>"
       ]
      }
     ],
     "prompt_number": 85
    },
    {
     "cell_type": "markdown",
     "metadata": {},
     "source": [
      "Let's evaluate health expenditures as a percentage of GDP over time."
     ]
    },
    {
     "cell_type": "code",
     "collapsed": false,
     "input": [
      "hth_exp_series2={'x':list(hth_gdp.index),\n",
      "                'y':list(hth_gdp['hth_gdp']),\n",
      "                'fill':'tozeroy',\n",
      "                'marker': {'color': 'red'}}\n",
      "\n",
      "hth_layout2 = {'xaxis': {'title': 'Time'},\n",
      "              'yaxis': {'title': 'Health Expenditures GDP%'},\n",
      "              'title': 'Health Expenditures as a Percentage of the Economy (1970-2013)'\n",
      "             }\n",
      "\n",
      "py.iplot(hth_exp_series2,layout=hth_layout2,width=1000,height=650)"
     ],
     "language": "python",
     "metadata": {},
     "outputs": [
      {
       "html": [
        "<iframe height=\"700\" id=\"igraph\" scrolling=\"no\" seamless=\"seamless\" src=\"https://plot.ly/~choct155/11/1000/650\" width=\"1050\"></iframe>"
       ],
       "metadata": {},
       "output_type": "pyout",
       "prompt_number": 86,
       "text": [
        "<IPython.core.display.HTML at 0x3cfd950>"
       ]
      }
     ],
     "prompt_number": 86
    }
   ],
   "metadata": {}
  }
 ]
}