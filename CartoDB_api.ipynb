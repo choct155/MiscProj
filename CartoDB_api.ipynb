{
 "metadata": {
  "name": ""
 },
 "nbformat": 3,
 "nbformat_minor": 0,
 "worksheets": [
  {
   "cells": [
    {
     "cell_type": "heading",
     "level": 1,
     "metadata": {},
     "source": [
      "Working with CartoDB via the API"
     ]
    },
    {
     "cell_type": "markdown",
     "metadata": {},
     "source": [
      "[CartoDB](http://cartodb.com/) is a web-based geodatabase/mapping service that appears to have a great deal of potential for the sharing of spatial information and visualizations of analyses.  The basic service can be dealt with in an entirely GUI environment, but the enterprising folks at [Vizzuality](http://www.vizzuality.com/) have created a [Python client](https://github.com/vizzuality/cartodb-python) that will enable access to the spatial data from within the Notebook.  This particular Notebook is a reference for working with the API."
     ]
    },
    {
     "cell_type": "code",
     "collapsed": false,
     "input": [
      "#Basic data manipulation\n",
      "import numpy as np\n",
      "import pandas as pd\n",
      "from pandas import Series, DataFrame\n",
      "\n",
      "#CartoDB\n",
      "from cartodb import CartoDBAPIKey, CartoDBException"
     ],
     "language": "python",
     "metadata": {},
     "outputs": [],
     "prompt_number": 1
    },
    {
     "cell_type": "markdown",
     "metadata": {},
     "source": [
      "Before doing anything, we need to get our credentials in order."
     ]
    },
    {
     "cell_type": "code",
     "collapsed": false,
     "input": [
      "#Set credentials\n",
      "user='choct155@gmail.com'\n",
      "API_KEY='903fbe9b419ead3e196db9bbb9e75bf448bb1b1a'\n",
      "cartodb_domain='choct155'\n",
      "\n",
      "#Instantiate authorization object\n",
      "cdb=CartoDBAPIKey(API_KEY,cartodb_domain)"
     ],
     "language": "python",
     "metadata": {},
     "outputs": [],
     "prompt_number": 4
    },
    {
     "cell_type": "heading",
     "level": 2,
     "metadata": {},
     "source": [
      "Query"
     ]
    },
    {
     "cell_type": "markdown",
     "metadata": {},
     "source": [
      "The first basic thing we'd like to do is query the data.  I already have three tables available:\n",
      "\n",
      "1. **tl_2013_11_bg**: Census [block groups](http://www.census.gov/geo/reference/gtc/gtc_bg.html) in Washington DC\n",
      "2. **streetcenterlineln**: Street centerlines in Washington DC (acquired from the [DCGIS Data Clearinghouse](http://dcatlas.dcgis.dc.gov/catalog/search_predef.asp))\n",
      "3. **cartodb_query**:  A [simplified shapefile](https://groups.google.com/forum/#!msg/cartodb/FyWb-DMtckg/uK1T_6uzWj8J) of all counties in the US (created by none other than [Andrew Hill](http://www.vizzuality.com/team/andrewhill) of Vizzuality)\n",
      "\n",
      "Let's first examine the contents of the county file.  This example is actually taken directly from the Python client Github page.  Testing the code below, however, suggests a helpful modification.  The output of the query is [JSON](http://www.json.org/), and quite lengthy.  Printing the whole lot is a bit more memory intensive than is reallly required, so we will dump the object into a variable and examine the structure."
     ]
    },
    {
     "cell_type": "code",
     "collapsed": false,
     "input": [
      "try:\n",
      "    ctys=cdb.sql('select * from cartodb_query')\n",
      "except CartoDBException as e:\n",
      "    print ('Some error has occurred',e)"
     ],
     "language": "python",
     "metadata": {},
     "outputs": [],
     "prompt_number": 6
    },
    {
     "cell_type": "markdown",
     "metadata": {},
     "source": [
      "How does Python recognize this object?"
     ]
    },
    {
     "cell_type": "code",
     "collapsed": false,
     "input": [
      "type(ctys)"
     ],
     "language": "python",
     "metadata": {},
     "outputs": [
      {
       "metadata": {},
       "output_type": "pyout",
       "prompt_number": 8,
       "text": [
        "dict"
       ]
      }
     ],
     "prompt_number": 8
    },
    {
     "cell_type": "markdown",
     "metadata": {},
     "source": [
      "What keys are available at the first level?"
     ]
    },
    {
     "cell_type": "code",
     "collapsed": false,
     "input": [
      "ctys.keys()"
     ],
     "language": "python",
     "metadata": {},
     "outputs": [
      {
       "metadata": {},
       "output_type": "pyout",
       "prompt_number": 13,
       "text": [
        "[u'fields', u'rows', u'total_rows', u'time']"
       ]
      }
     ],
     "prompt_number": 13
    },
    {
     "cell_type": "markdown",
     "metadata": {},
     "source": [
      "The bulk of the information is clearly in `rows`.  It appears that `total_rows` and `time` provide metadata.  The `fields` information can be explored a bit to get a better sense of how we can query the `rows`."
     ]
    },
    {
     "cell_type": "code",
     "collapsed": false,
     "input": [
      "ctys['fields']"
     ],
     "language": "python",
     "metadata": {},
     "outputs": [
      {
       "metadata": {},
       "output_type": "pyout",
       "prompt_number": 18,
       "text": [
        "{u'aland': {u'type': u'number'},\n",
        " u'awater': {u'type': u'number'},\n",
        " u'cartodb_id': {u'type': u'number'},\n",
        " u'classfp': {u'type': u'string'},\n",
        " u'countyfp': {u'type': u'string'},\n",
        " u'countyns': {u'type': u'string'},\n",
        " u'created_at': {u'type': u'date'},\n",
        " u'mtfcc': {u'type': u'string'},\n",
        " u'name': {u'type': u'string'},\n",
        " u'statefp': {u'type': u'string'},\n",
        " u'the_geom': {u'type': u'geometry'},\n",
        " u'the_geom_webmercator': {u'type': u'geometry'},\n",
        " u'updated_at': {u'type': u'date'}}"
       ]
      }
     ],
     "prompt_number": 18
    },
    {
     "cell_type": "markdown",
     "metadata": {},
     "source": [
      "The fields are a low cost query.  What can we learn from the looking at the first row?"
     ]
    },
    {
     "cell_type": "code",
     "collapsed": false,
     "input": [
      "ctys['rows'][0]['name']"
     ],
     "language": "python",
     "metadata": {},
     "outputs": [
      {
       "metadata": {},
       "output_type": "pyout",
       "prompt_number": 25,
       "text": [
        "u'Cumberland'"
       ]
      }
     ],
     "prompt_number": 25
    },
    {
     "cell_type": "markdown",
     "metadata": {},
     "source": [
      "Ok, we want to avoid the *geometry* types, because there is little use to pulling all of the characters used to convey the actual polygons.  (They are represented as [Well-Known Binary](http://en.wikipedia.org/wiki/Well-known_text#Well-known_binary).) Our most common use for this API is likely to work with attribute data anyway.  Let's pull this information into a DataFrame."
     ]
    },
    {
     "cell_type": "code",
     "collapsed": false,
     "input": [
      "#Identify desired fields\n",
      "desired_fields=[x for x in ctys['fields'] if 'geom' not in x]\n",
      "\n",
      "#Create container for attribute data\n",
      "data_list=[]\n",
      "\n",
      "#For each county (aka - row)...\n",
      "for cty in ctys['rows']:\n",
      "    #...create a container for row-specific data...\n",
      "    row_list=[]\n",
      "    #...for each desired field...\n",
      "    for fld in desired_fields:\n",
      "        #...populate the row-specific list with said field...\n",
      "        row_list.append(cty[fld])\n",
      "    #...and throw all filled row-specific lists into data_list\n",
      "    data_list.append(row_list)\n",
      "\n",
      "#Generate DF from data_list\n",
      "cty_attr=DataFrame(data_list,columns=desired_fields)\n",
      "\n",
      "print cty_attr.info()\n",
      "cty_attr.head()"
     ],
     "language": "python",
     "metadata": {},
     "outputs": [
      {
       "output_type": "stream",
       "stream": "stdout",
       "text": [
        "<class 'pandas.core.frame.DataFrame'>\n",
        "Int64Index: 3234 entries, 0 to 3233\n",
        "Data columns (total 11 columns):\n",
        "name          3234  non-null values\n",
        "created_at    3234  non-null values\n",
        "cartodb_id    3234  non-null values\n",
        "updated_at    3234  non-null values\n",
        "awater        3234  non-null values\n",
        "countyfp      3234  non-null values\n",
        "aland         3234  non-null values\n",
        "mtfcc         3234  non-null values\n",
        "classfp       3234  non-null values\n",
        "statefp       3234  non-null values\n",
        "countyns      3234  non-null values\n",
        "dtypes: int64(3), object(8)None\n"
       ]
      },
      {
       "html": [
        "<div style=\"max-height:1000px;max-width:1500px;overflow:auto;\">\n",
        "<table border=\"1\" class=\"dataframe\">\n",
        "  <thead>\n",
        "    <tr style=\"text-align: right;\">\n",
        "      <th></th>\n",
        "      <th>name</th>\n",
        "      <th>created_at</th>\n",
        "      <th>cartodb_id</th>\n",
        "      <th>updated_at</th>\n",
        "      <th>awater</th>\n",
        "      <th>countyfp</th>\n",
        "      <th>aland</th>\n",
        "      <th>mtfcc</th>\n",
        "      <th>classfp</th>\n",
        "      <th>statefp</th>\n",
        "      <th>countyns</th>\n",
        "    </tr>\n",
        "  </thead>\n",
        "  <tbody>\n",
        "    <tr>\n",
        "      <th>0</th>\n",
        "      <td> Cumberland</td>\n",
        "      <td> 2013-11-26T00:00:00Z</td>\n",
        "      <td>  673</td>\n",
        "      <td> 2013-11-26T00:00:00Z</td>\n",
        "      <td>   2531272</td>\n",
        "      <td> 035</td>\n",
        "      <td>  896203131</td>\n",
        "      <td> G4020</td>\n",
        "      <td> H1</td>\n",
        "      <td> 17</td>\n",
        "      <td> 00424219</td>\n",
        "    </tr>\n",
        "    <tr>\n",
        "      <th>1</th>\n",
        "      <td>     Custer</td>\n",
        "      <td> 2013-11-26T00:00:00Z</td>\n",
        "      <td>  949</td>\n",
        "      <td> 2013-11-26T00:00:00Z</td>\n",
        "      <td>    932956</td>\n",
        "      <td> 041</td>\n",
        "      <td> 6670699345</td>\n",
        "      <td> G4020</td>\n",
        "      <td> H1</td>\n",
        "      <td> 31</td>\n",
        "      <td> 00835842</td>\n",
        "    </tr>\n",
        "    <tr>\n",
        "      <th>2</th>\n",
        "      <td>     Chelan</td>\n",
        "      <td> 2013-11-26T00:00:00Z</td>\n",
        "      <td> 1890</td>\n",
        "      <td> 2013-11-26T00:00:00Z</td>\n",
        "      <td> 189998659</td>\n",
        "      <td> 007</td>\n",
        "      <td> 7564200162</td>\n",
        "      <td> G4020</td>\n",
        "      <td> H1</td>\n",
        "      <td> 53</td>\n",
        "      <td> 01531932</td>\n",
        "    </tr>\n",
        "    <tr>\n",
        "      <th>3</th>\n",
        "      <td>     Newton</td>\n",
        "      <td> 2013-11-26T00:00:00Z</td>\n",
        "      <td> 1130</td>\n",
        "      <td> 2013-11-26T00:00:00Z</td>\n",
        "      <td>   4525338</td>\n",
        "      <td> 101</td>\n",
        "      <td> 1496636734</td>\n",
        "      <td> G4020</td>\n",
        "      <td> H1</td>\n",
        "      <td> 28</td>\n",
        "      <td> 00695773</td>\n",
        "    </tr>\n",
        "    <tr>\n",
        "      <th>4</th>\n",
        "      <td>      Falls</td>\n",
        "      <td> 2013-11-26T00:00:00Z</td>\n",
        "      <td> 1462</td>\n",
        "      <td> 2013-11-26T00:00:00Z</td>\n",
        "      <td>  21645985</td>\n",
        "      <td> 145</td>\n",
        "      <td> 1982592813</td>\n",
        "      <td> G4020</td>\n",
        "      <td> H1</td>\n",
        "      <td> 48</td>\n",
        "      <td> 01383858</td>\n",
        "    </tr>\n",
        "  </tbody>\n",
        "</table>\n",
        "<p>5 rows \u00d7 11 columns</p>\n",
        "</div>"
       ],
       "metadata": {},
       "output_type": "pyout",
       "prompt_number": 41,
       "text": [
        "         name            created_at  cartodb_id            updated_at  \\\n",
        "0  Cumberland  2013-11-26T00:00:00Z         673  2013-11-26T00:00:00Z   \n",
        "1      Custer  2013-11-26T00:00:00Z         949  2013-11-26T00:00:00Z   \n",
        "2      Chelan  2013-11-26T00:00:00Z        1890  2013-11-26T00:00:00Z   \n",
        "3      Newton  2013-11-26T00:00:00Z        1130  2013-11-26T00:00:00Z   \n",
        "4       Falls  2013-11-26T00:00:00Z        1462  2013-11-26T00:00:00Z   \n",
        "\n",
        "      awater countyfp       aland  mtfcc classfp statefp  countyns  \n",
        "0    2531272      035   896203131  G4020      H1      17  00424219  \n",
        "1     932956      041  6670699345  G4020      H1      31  00835842  \n",
        "2  189998659      007  7564200162  G4020      H1      53  01531932  \n",
        "3    4525338      101  1496636734  G4020      H1      28  00695773  \n",
        "4   21645985      145  1982592813  G4020      H1      48  01383858  \n",
        "\n",
        "[5 rows x 11 columns]"
       ]
      }
     ],
     "prompt_number": 41
    },
    {
     "cell_type": "heading",
     "level": 2,
     "metadata": {},
     "source": [
      "Write"
     ]
    },
    {
     "cell_type": "markdown",
     "metadata": {},
     "source": [
      "Querying information appears to be pretty easy.  The real work, however, requires the ability to write new information to the table.  This enables us to actually modify the appearance of the map by providing value hooks for coloring, size, and what have you.  Presumably, the entire library of [PostgreSQL](http://www.postgresql.org/) commands are available to us.  \n",
      "\n",
      "It appears that SQL requires the construction of a container for data before data can be included (an integrated process in Python).  Let's try adding a column."
     ]
    },
    {
     "cell_type": "code",
     "collapsed": false,
     "input": [
      "try:\n",
      "    ctys=cdb.sql('alter table cartodb_query add rand real')\n",
      "except CartoDBException as e:\n",
      "    print ('Some error has occurred',e)"
     ],
     "language": "python",
     "metadata": {},
     "outputs": [],
     "prompt_number": 44
    },
    {
     "cell_type": "markdown",
     "metadata": {},
     "source": [
      "Success!  That was super easy.  Now let's think about adding some information.  From the `UPDATE` example in the [CartoDB API Overview](http://developers.cartodb.com/documentation/sql-api.html), it appears the best way to go about this is by utilizing a ... dictionary (surprise!).  The reason is two-fold:\n",
      "\n",
      "1. `UPDATE` appears to set information for a single row at a time, necessitating the coupling of a row identifier and the desired input value; and,\n",
      "2. The SQL statement is input as a string, which may be problematic on the array side of things.\n",
      "\n",
      "To be sure, there is probably a more efficient way of going about this.  As a first attempt, however, let's see if this works with a vector of random numbers."
     ]
    },
    {
     "cell_type": "code",
     "collapsed": false,
     "input": [
      "#Generate random data\n",
      "rdata=np.random.normal(0,2,len(cty_attr))\n",
      "\n",
      "#Create string version of random data\n",
      "rdata_str=[str(x) for x in rdata]\n",
      "\n",
      "#Create a dictionary\n",
      "rdata_dict=dict(zip(cty_attr['cartodb_id'],rdata_str))\n",
      "\n",
      "#Feed data into `rand` variable in cartodb_query\n",
      "for row in rdata_dict.keys():\n",
      "    try:\n",
      "        ctys=cdb.sql('update cartodb_query set rand = '+rdata_dict[row]+' where cartodb_id = '+str(row))\n",
      "    except CartoDBException as e:\n",
      "        print ('Some error has occurred',e)"
     ],
     "language": "python",
     "metadata": {},
     "outputs": [],
     "prompt_number": 49
    },
    {
     "cell_type": "markdown",
     "metadata": {},
     "source": [
      "So, that actually does work.  The thing is, it takes a while.  Surely there must be some way to make one API call that inputs 3000+ values instead of over 3000 calls that input one value each.\n",
      "\n",
      "Let's generate random classes to test this theory and create our new variable."
     ]
    },
    {
     "cell_type": "code",
     "collapsed": false,
     "input": [
      "#Generate class choices\n",
      "classes=['A','B','C','D','E']\n",
      "\n",
      "#Generate class data vector\n",
      "cdata=np.random.choice(classes,len(cty_attr))\n",
      "\n",
      "try:\n",
      "    ctys=cdb.sql('alter table cartodb_query add rclass text')\n",
      "except CartoDBException as e:\n",
      "    print ('Some error has occurred',e)"
     ],
     "language": "python",
     "metadata": {},
     "outputs": [],
     "prompt_number": 55
    },
    {
     "cell_type": "markdown",
     "metadata": {},
     "source": [
      "To make this happen, the first trick is to get our data into a string format that can be ready by the SQL call interpreter.  Once this occurs, the second obstacle is to get the interpreter to iterate over the contents of the data.  A possible solution to the second hurdle and a clue to how one might structure the data in the query is provided in response to a [related PostgreSQL inquiry on stackoverflow](http://stackoverflow.com/questions/18797608/update-multiple-rows-in-same-query-using-postgresql).  \n",
      "\n",
      "It looks like SQL can process value mappings as a comma-delimited list of tuples, which we can convert to a single string with the `.join()` method.  From here, we can insert the values directly and capture them as a collection (possibly called a SEQUENCE in SQL parlance) than can be dynamically queried within the SQL statement. The update value for `rclass` will just be pulled by corresponding `cartodb_id` values as we iterate over the list."
     ]
    },
    {
     "cell_type": "code",
     "collapsed": false,
     "input": [
      "#Convert values to single string\n",
      "# rclass_vals=','.join([str(x) for x in zip(cty_attr['cartodb_id'],cdata)])\n",
      "\n",
      "# try:\n",
      "#     ctys=cdb.sql('update cartodb_query set'+\\\n",
      "#                  'rclass = c.new_rclass'+\\\n",
      "#                  'from (values '+rclass_vals+')'+\\\n",
      "#                  'as c(cartodb_id,rclass)'+\\\n",
      "#                  'where c.cartodb_id = cartodb_query.cartodb_id;')\n",
      "# except CartoDBException as e:\n",
      "#     print ('Some error has occurred',e)"
     ],
     "language": "python",
     "metadata": {},
     "outputs": [
      {
       "output_type": "stream",
       "stream": "stdout",
       "text": [
        "('Some error has occurred', CartoDBException([u'syntax error at or near \"=\"'],))\n"
       ]
      }
     ],
     "prompt_number": 63
    },
    {
     "cell_type": "markdown",
     "metadata": {},
     "source": [
      "Well, the idea did have some promise, but it doesn't seem to work:\n",
      "\n",
      "    ('Some error has occurred', CartoDBException([u'syntax error at or near \"=\"'],))\n",
      "\n",
      "I have followed the syntax provided by the respondent, so I am guessing that there is an issue translating syntax intended for use within a SQL environment into something usable via API request.  Nevertheless, let's try a *`case`* approach before relegating to the loop method used initially."
     ]
    },
    {
     "cell_type": "code",
     "collapsed": false,
     "input": [],
     "language": "python",
     "metadata": {},
     "outputs": []
    }
   ],
   "metadata": {}
  }
 ]
}